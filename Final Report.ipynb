{
 "cells": [
  {
   "cell_type": "markdown",
   "metadata": {},
   "source": [
    "# Introduction"
   ]
  },
  {
   "cell_type": "markdown",
   "metadata": {},
   "source": [
    "* Hello, my name is Shorter\n",
    "* This is a project attempting to construct a ML model to predict unemployment"
   ]
  },
  {
   "cell_type": "markdown",
   "metadata": {},
   "source": [
    "## Project Objective \n",
    "* Analyze data from U.S. Census Bureau's August 2022 Current Population Surve\n",
    "* To predict unemployment status of respondents to the survey utilizing ML techniques based around classification"
   ]
  },
  {
   "cell_type": "markdown",
   "metadata": {},
   "source": [
    "## Executive Summary\n"
   ]
  },
  {
   "cell_type": "markdown",
   "metadata": {},
   "source": [
    ">* Analysis of the data showed that unemployment rates are fairly small across most population groups\n",
    ">* Statistical testing confirmed the results across nearly all features\n",
    ">* The small percentage of the population that is unemployed actually made it more difficult to correctly model\n",
    ">* Accuracy scores for the models were high, but true negative rates were extremely low for models that scored best in that area"
   ]
  },
  {
   "cell_type": "markdown",
   "metadata": {},
   "source": [
    "# Import Section"
   ]
  },
  {
   "cell_type": "code",
   "execution_count": 1,
   "metadata": {},
   "outputs": [],
   "source": [
    "import pandas as pd\n",
    "import model\n",
    "import wrangle\n",
    "\n",
    "from importlib import reload\n",
    "reload(model)\n",
    "\n",
    "import warnings\n",
    "warnings.filterwarnings(\"ignore\")"
   ]
  },
  {
   "cell_type": "markdown",
   "metadata": {},
   "source": [
    "# Wrangle (Acquire and Prep)\n",
    "> * Largest and most time intensive part of wrangle was deciding which columns to drop. \n",
    "> - Deviated heavily from initial plan to **only** feature resume-like categories. Sub-optimal decision.\n",
    "\n",
    "### Nulls/Missing Values\n",
    "> * Dropped any records that have 'NaN' for target variable, indicates incomplete survey/data.\n",
    "> - Same rationale used to justify dropping most observations that had a '-1' value as that indicated the repsondent did not an apporiate repsonse for the area of the survey\n",
    "> * For some others such as `usual_hours_worked` information from multiple columns was used to infer proper disposition\n",
    "> - Example: Individuals that report variable work hours were assigned population mean hours work for above/or below 35 hours. \n",
    "> * Further work on the project will require more research of how the survey is conducted and the data entered. \n",
    "---\n",
    "### Feature Engineering \n",
    "> * Decided against engineering features due to poor model performance with accurately predicting employment disposition. No point increasing complexity\n",
    "---   \n",
    "### Flattening\n",
    "> * Had to make decisions in order to remove optionality from certain categorical columns when preparing the data\n",
    "> - Example: `race` orginally had over 20 different categories and was ~flattened~ down to 7 \n",
    "> * Decisons here driven mostly by desire to create larger cohorts within  features because the unemployment is already such as small amount\n"
   ]
  },
  {
   "cell_type": "code",
   "execution_count": 2,
   "metadata": {},
   "outputs": [],
   "source": [
    "#calling prepare/acquire functions from module to acquire and split data subsets\n",
    "df = wrangle.prep_aug()\n",
    "train, validate, test, train_scaled, validate_scaled, test_scaled = wrangle.split_scale(df, 'y')"
   ]
  },
  {
   "cell_type": "code",
   "execution_count": 10,
   "metadata": {},
   "outputs": [
    {
     "name": "stdout",
     "output_type": "stream",
     "text": [
      "<class 'pandas.core.frame.DataFrame'>\n",
      "Int64Index: 50556 entries, 1 to 127917\n",
      "Data columns (total 32 columns):\n",
      " #   Column                      Non-Null Count  Dtype  \n",
      "---  ------                      --------------  -----  \n",
      " 0   housing_type                50556 non-null  object \n",
      " 1   family_income               50556 non-null  object \n",
      " 2   household_num               50556 non-null  int64  \n",
      " 3   household_type              50556 non-null  object \n",
      " 4   own_bus_or_farm             50556 non-null  int64  \n",
      " 5   country_region              50556 non-null  object \n",
      " 6   state                       50556 non-null  object \n",
      " 7   metropolitan                50556 non-null  object \n",
      " 8   metro_area_size             50556 non-null  object \n",
      " 9   age                         50556 non-null  float64\n",
      " 10  is_male                     50556 non-null  int64  \n",
      " 11  marital_status              50556 non-null  object \n",
      " 12  veteran                     50556 non-null  int64  \n",
      " 13  education                   50556 non-null  object \n",
      " 14  race                        50556 non-null  object \n",
      " 15  hispanic_or_non             50556 non-null  int64  \n",
      " 16  birth_country               50556 non-null  object \n",
      " 17  mother_birth_country        50556 non-null  object \n",
      " 18  father_birth_country        50556 non-null  object \n",
      " 19  citizenship                 50556 non-null  object \n",
      " 20  upaid_work_last_week        50556 non-null  int64  \n",
      " 21  usual_hours_worked          50556 non-null  float64\n",
      " 22  pelkavl                     50556 non-null  float64\n",
      " 23  pedwlko                     50556 non-null  float64\n",
      " 24  pedwwk                      50556 non-null  float64\n",
      " 25  pejhwant                    50556 non-null  float64\n",
      " 26  employed                    50556 non-null  int64  \n",
      " 27  industry                    50556 non-null  object \n",
      " 28  occupation                  50556 non-null  object \n",
      " 29  enrolled_in_school          50556 non-null  int64  \n",
      " 30  children_in_household       50556 non-null  float64\n",
      " 31  professional_certification  50556 non-null  int64  \n",
      "dtypes: float64(7), int64(9), object(16)\n",
      "memory usage: 12.7+ MB\n"
     ]
    }
   ],
   "source": [
    "df.info()"
   ]
  },
  {
   "cell_type": "markdown",
   "metadata": {},
   "source": [
    "## Exploration Questions \n",
    "* Includes visualizations and statistical tests\n",
    "* Primarily focused on items that appear on the typical resume or job application"
   ]
  },
  {
   "cell_type": "markdown",
   "metadata": {},
   "source": [
    "### Spotlight - Industry \n",
    "* **Question:** Which industry shows the largest population proportion change between employed and unemployed?  \n",
    "* **Answer:** Leisure and Hospitality. This industry also has the highest unemployment rate at 6%\n",
    "\n",
    "#### Statistical Hypothesis\n",
    ">* ${H_0}$: There is no relationship between industry of typical employment and employment status   \n",
    ">* ${H_a}$: There is a relationship between industry of typical employment and employment status  \n",
    ">* ${\\alpha}$: .05  \n",
    ">* Result: There is enough evidence to reject our null hypothesis. **Test code below**"
   ]
  },
  {
   "cell_type": "code",
   "execution_count": 3,
   "metadata": {},
   "outputs": [
    {
     "name": "stderr",
     "output_type": "stream",
     "text": [
      "No artists with labels found to put in legend.  Note that artists whose label start with an underscore are ignored when legend() is called with no argument.\n"
     ]
    },
    {
     "name": "stdout",
     "output_type": "stream",
     "text": [
      "chi^2: 157.9437\n",
      "p: 0.0000\n",
      "degrees of freedom: 13\n",
      "Reject null hypothesis\n"
     ]
    },
    {
     "data": {
      "text/plain": [
       "<Figure size 1440x432 with 0 Axes>"
      ]
     },
     "metadata": {},
     "output_type": "display_data"
    },
    {
     "data": {
      "image/png": "[encoded data removed]",
      "text/plain": [
       "<Figure size 720x360 with 2 Axes>"
      ]
     },
     "metadata": {
      "needs_background": "light"
     },
     "output_type": "display_data"
    },
    {
     "data": {
      "text/html": [
       "<div>\n",
       "<style scoped>\n",
       "    .dataframe tbody tr th:only-of-type {\n",
       "        vertical-align: middle;\n",
       "    }\n",
       "\n",
       "    .dataframe tbody tr th {\n",
       "        vertical-align: top;\n",
       "    }\n",
       "\n",
       "    .dataframe thead tr th {\n",
       "        text-align: left;\n",
       "    }\n",
       "\n",
       "    .dataframe thead tr:last-of-type th {\n",
       "        text-align: right;\n",
       "    }\n",
       "</style>\n",
       "<table border=\"1\" class=\"dataframe\">\n",
       "  <thead>\n",
       "    <tr>\n",
       "      <th></th>\n",
       "      <th colspan=\"3\" halign=\"left\">population_proportions</th>\n",
       "      <th>unemployment_rate</th>\n",
       "    </tr>\n",
       "    <tr>\n",
       "      <th></th>\n",
       "      <th>employed</th>\n",
       "      <th>unemployed</th>\n",
       "      <th>change</th>\n",
       "      <th></th>\n",
       "    </tr>\n",
       "    <tr>\n",
       "      <th>industry</th>\n",
       "      <th></th>\n",
       "      <th></th>\n",
       "      <th></th>\n",
       "      <th></th>\n",
       "    </tr>\n",
       "  </thead>\n",
       "  <tbody>\n",
       "    <tr>\n",
       "      <th>14.0</th>\n",
       "      <td>NaN</td>\n",
       "      <td>0.003</td>\n",
       "      <td>NaN</td>\n",
       "      <td>1.00</td>\n",
       "    </tr>\n",
       "    <tr>\n",
       "      <th>11.0</th>\n",
       "      <td>0.085</td>\n",
       "      <td>0.139</td>\n",
       "      <td>-0.054</td>\n",
       "      <td>0.05</td>\n",
       "    </tr>\n",
       "    <tr>\n",
       "      <th>2.0</th>\n",
       "      <td>0.005</td>\n",
       "      <td>0.009</td>\n",
       "      <td>-0.003</td>\n",
       "      <td>0.05</td>\n",
       "    </tr>\n",
       "    <tr>\n",
       "      <th>1.0</th>\n",
       "      <td>0.018</td>\n",
       "      <td>0.021</td>\n",
       "      <td>-0.003</td>\n",
       "      <td>0.04</td>\n",
       "    </tr>\n",
       "    <tr>\n",
       "      <th>7.0</th>\n",
       "      <td>0.017</td>\n",
       "      <td>0.020</td>\n",
       "      <td>-0.003</td>\n",
       "      <td>0.04</td>\n",
       "    </tr>\n",
       "    <tr>\n",
       "      <th>5.0</th>\n",
       "      <td>0.121</td>\n",
       "      <td>0.139</td>\n",
       "      <td>-0.017</td>\n",
       "      <td>0.04</td>\n",
       "    </tr>\n",
       "    <tr>\n",
       "      <th>3.0</th>\n",
       "      <td>0.077</td>\n",
       "      <td>0.081</td>\n",
       "      <td>-0.003</td>\n",
       "      <td>0.03</td>\n",
       "    </tr>\n",
       "    <tr>\n",
       "      <th>9.0</th>\n",
       "      <td>0.130</td>\n",
       "      <td>0.133</td>\n",
       "      <td>-0.003</td>\n",
       "      <td>0.03</td>\n",
       "    </tr>\n",
       "    <tr>\n",
       "      <th>6.0</th>\n",
       "      <td>0.058</td>\n",
       "      <td>0.057</td>\n",
       "      <td>0.001</td>\n",
       "      <td>0.03</td>\n",
       "    </tr>\n",
       "    <tr>\n",
       "      <th>10.0</th>\n",
       "      <td>0.219</td>\n",
       "      <td>0.212</td>\n",
       "      <td>0.007</td>\n",
       "      <td>0.03</td>\n",
       "    </tr>\n",
       "    <tr>\n",
       "      <th>12.0</th>\n",
       "      <td>0.052</td>\n",
       "      <td>0.050</td>\n",
       "      <td>0.002</td>\n",
       "      <td>0.03</td>\n",
       "    </tr>\n",
       "    <tr>\n",
       "      <th>4.0</th>\n",
       "      <td>0.097</td>\n",
       "      <td>0.082</td>\n",
       "      <td>0.015</td>\n",
       "      <td>0.03</td>\n",
       "    </tr>\n",
       "    <tr>\n",
       "      <th>8.0</th>\n",
       "      <td>0.067</td>\n",
       "      <td>0.035</td>\n",
       "      <td>0.032</td>\n",
       "      <td>0.02</td>\n",
       "    </tr>\n",
       "    <tr>\n",
       "      <th>13.0</th>\n",
       "      <td>0.054</td>\n",
       "      <td>0.021</td>\n",
       "      <td>0.033</td>\n",
       "      <td>0.01</td>\n",
       "    </tr>\n",
       "  </tbody>\n",
       "</table>\n",
       "</div>"
      ],
      "text/plain": [
       "         population_proportions                   unemployment_rate\n",
       "                       employed unemployed change                  \n",
       "industry                                                           \n",
       "14.0                        NaN      0.003    NaN              1.00\n",
       "11.0                      0.085      0.139 -0.054              0.05\n",
       "2.0                       0.005      0.009 -0.003              0.05\n",
       "1.0                       0.018      0.021 -0.003              0.04\n",
       "7.0                       0.017      0.020 -0.003              0.04\n",
       "5.0                       0.121      0.139 -0.017              0.04\n",
       "3.0                       0.077      0.081 -0.003              0.03\n",
       "9.0                       0.130      0.133 -0.003              0.03\n",
       "6.0                       0.058      0.057  0.001              0.03\n",
       "10.0                      0.219      0.212  0.007              0.03\n",
       "12.0                      0.052      0.050  0.002              0.03\n",
       "4.0                       0.097      0.082  0.015              0.03\n",
       "8.0                       0.067      0.035  0.032              0.02\n",
       "13.0                      0.054      0.021  0.033              0.01"
      ]
     },
     "execution_count": 3,
     "metadata": {},
     "output_type": "execute_result"
    }
   ],
   "source": [
    "#calls function to display visuals and results of statistical analysis and testing\n",
    "model.spotlight_stats(train, 'industry', 'Leisure and Hospitality with largest change')"
   ]
  },
  {
   "cell_type": "markdown",
   "metadata": {},
   "source": [
    "1\tAgriculture, forestry, fishing, and hunting\t\t\n",
    "\t\n",
    "2\tMining\t\t\n",
    "\n",
    "3\tConstruction  \t\n",
    "\n",
    "4\tManufacturing  \t\t\t\n",
    "\n",
    "5\tWholesale and retail trade\t  \n",
    "\n",
    "6\tTransportation and utilities\t \n",
    "\n",
    "7\tInformation\t  \t\t\t\n",
    "\n",
    "8\tFinancial activities\t  \t\n",
    "\n",
    "9\tProfessional and business services\t  \t\n",
    "\n",
    "10\tEducational and health services\t\t\n",
    "\n",
    "11\tLeisure and hospitality\t  \t\t\n",
    "\n",
    "12\tOther services\t\t  \t\t\t\n",
    "\n",
    "13\tPublic administration\t  \t\t\n",
    "\t\t\t\t\t\n",
    "14\tArmed Forces  "
   ]
  },
  {
   "cell_type": "markdown",
   "metadata": {},
   "source": [
    "### Spotlight - Race\n",
    "* **Question:** Which industry shows the largest population proportion change between employed and unemployed?\n",
    "\n",
    "* **Answer:** Indivduals identifying as White show the largest population proportion change with a drop of nearly 10% when comparing employed vs unemployed. Those identifying as mixed race other than with white, and Indigenous have the highest unemployed rates at 12% and 7% respectively. \n",
    "\n",
    "#### Statistical Hypothesis\n",
    ">* ${H_0}$: There is no relationship between `race` and `employment` status   \n",
    ">* ${H_a}$: There is a relationship between `race` and `employment` status   \n",
    ">* ${\\alpha}$: .05  \n",
    ">* Result: There is enough evidence to reject our null hypothesis. **Test code below**"
   ]
  },
  {
   "cell_type": "code",
   "execution_count": 4,
   "metadata": {},
   "outputs": [
    {
     "name": "stderr",
     "output_type": "stream",
     "text": [
      "No artists with labels found to put in legend.  Note that artists whose label start with an underscore are ignored when legend() is called with no argument.\n"
     ]
    },
    {
     "name": "stdout",
     "output_type": "stream",
     "text": [
      "chi^2: 62.1129\n",
      "p: 0.0000\n",
      "degrees of freedom: 6\n",
      "Reject null hypothesis\n"
     ]
    },
    {
     "data": {
      "text/plain": [
       "<Figure size 1440x432 with 0 Axes>"
      ]
     },
     "metadata": {},
     "output_type": "display_data"
    },
    {
     "data": {
      "image/png": "[encoded data removed]",
      "text/plain": [
       "<Figure size 720x360 with 2 Axes>"
      ]
     },
     "metadata": {
      "needs_background": "light"
     },
     "output_type": "display_data"
    },
    {
     "data": {
      "text/html": [
       "<div>\n",
       "<style scoped>\n",
       "    .dataframe tbody tr th:only-of-type {\n",
       "        vertical-align: middle;\n",
       "    }\n",
       "\n",
       "    .dataframe tbody tr th {\n",
       "        vertical-align: top;\n",
       "    }\n",
       "\n",
       "    .dataframe thead tr th {\n",
       "        text-align: left;\n",
       "    }\n",
       "\n",
       "    .dataframe thead tr:last-of-type th {\n",
       "        text-align: right;\n",
       "    }\n",
       "</style>\n",
       "<table border=\"1\" class=\"dataframe\">\n",
       "  <thead>\n",
       "    <tr>\n",
       "      <th></th>\n",
       "      <th colspan=\"3\" halign=\"left\">population_proportions</th>\n",
       "      <th>unemployment_rate</th>\n",
       "    </tr>\n",
       "    <tr>\n",
       "      <th></th>\n",
       "      <th>employed</th>\n",
       "      <th>unemployed</th>\n",
       "      <th>change</th>\n",
       "      <th></th>\n",
       "    </tr>\n",
       "    <tr>\n",
       "      <th>race</th>\n",
       "      <th></th>\n",
       "      <th></th>\n",
       "      <th></th>\n",
       "      <th></th>\n",
       "    </tr>\n",
       "  </thead>\n",
       "  <tbody>\n",
       "    <tr>\n",
       "      <th>mixed_white</th>\n",
       "      <td>0.015</td>\n",
       "      <td>0.026</td>\n",
       "      <td>-0.011</td>\n",
       "      <td>0.05</td>\n",
       "    </tr>\n",
       "    <tr>\n",
       "      <th>black</th>\n",
       "      <td>0.099</td>\n",
       "      <td>0.168</td>\n",
       "      <td>-0.069</td>\n",
       "      <td>0.05</td>\n",
       "    </tr>\n",
       "    <tr>\n",
       "      <th>HI/PI</th>\n",
       "      <td>0.005</td>\n",
       "      <td>0.008</td>\n",
       "      <td>-0.002</td>\n",
       "      <td>0.04</td>\n",
       "    </tr>\n",
       "    <tr>\n",
       "      <th>AI/NA</th>\n",
       "      <td>0.011</td>\n",
       "      <td>0.014</td>\n",
       "      <td>-0.003</td>\n",
       "      <td>0.04</td>\n",
       "    </tr>\n",
       "    <tr>\n",
       "      <th>white</th>\n",
       "      <td>0.799</td>\n",
       "      <td>0.741</td>\n",
       "      <td>0.058</td>\n",
       "      <td>0.03</td>\n",
       "    </tr>\n",
       "    <tr>\n",
       "      <th>asian</th>\n",
       "      <td>0.066</td>\n",
       "      <td>0.041</td>\n",
       "      <td>0.024</td>\n",
       "      <td>0.02</td>\n",
       "    </tr>\n",
       "    <tr>\n",
       "      <th>mixed_other</th>\n",
       "      <td>0.003</td>\n",
       "      <td>0.001</td>\n",
       "      <td>0.002</td>\n",
       "      <td>0.01</td>\n",
       "    </tr>\n",
       "  </tbody>\n",
       "</table>\n",
       "</div>"
      ],
      "text/plain": [
       "            population_proportions                   unemployment_rate\n",
       "                          employed unemployed change                  \n",
       "race                                                                  \n",
       "mixed_white                  0.015      0.026 -0.011              0.05\n",
       "black                        0.099      0.168 -0.069              0.05\n",
       "HI/PI                        0.005      0.008 -0.002              0.04\n",
       "AI/NA                        0.011      0.014 -0.003              0.04\n",
       "white                        0.799      0.741  0.058              0.03\n",
       "asian                        0.066      0.041  0.024              0.02\n",
       "mixed_other                  0.003      0.001  0.002              0.01"
      ]
     },
     "execution_count": 4,
     "metadata": {},
     "output_type": "execute_result"
    }
   ],
   "source": [
    "#calls function to display visuals and results of statistical analysis and testing\n",
    "model.spotlight_stats(train, 'race', 'White with largest change')"
   ]
  },
  {
   "cell_type": "markdown",
   "metadata": {},
   "source": [
    "### Spotlight - Professional Certification\n",
    "* **Question:** What is the effect of having a professional certification? \n",
    " \n",
    "* **Answer:** Most indivduals do not have certification, but those that do have a 2% unemployment rate vs 4% for those without.\n",
    "\n",
    "#### Statistical Hypothesis\n",
    ">* ${H_0}$: There is no relationship between having a `professional_certification` and `employment`  \n",
    ">* ${H_a}$: There is a relationship between having a `professional_certification` and `employment`    \n",
    ">* ${\\alpha}$: .05\n",
    ">* Result: There is enough evidence to reject our null hypothesis. **Test code below**"
   ]
  },
  {
   "cell_type": "code",
   "execution_count": 5,
   "metadata": {},
   "outputs": [
    {
     "name": "stderr",
     "output_type": "stream",
     "text": [
      "No artists with labels found to put in legend.  Note that artists whose label start with an underscore are ignored when legend() is called with no argument.\n"
     ]
    },
    {
     "name": "stdout",
     "output_type": "stream",
     "text": [
      "chi^2: 40.1235\n",
      "p: 0.0000\n",
      "degrees of freedom: 1\n",
      "Reject null hypothesis\n"
     ]
    },
    {
     "data": {
      "text/plain": [
       "<Figure size 1440x432 with 0 Axes>"
      ]
     },
     "metadata": {},
     "output_type": "display_data"
    },
    {
     "data": {
      "image/png": "[encoded data removed]",
      "text/plain": [
       "<Figure size 720x360 with 2 Axes>"
      ]
     },
     "metadata": {
      "needs_background": "light"
     },
     "output_type": "display_data"
    },
    {
     "data": {
      "text/html": [
       "<div>\n",
       "<style scoped>\n",
       "    .dataframe tbody tr th:only-of-type {\n",
       "        vertical-align: middle;\n",
       "    }\n",
       "\n",
       "    .dataframe tbody tr th {\n",
       "        vertical-align: top;\n",
       "    }\n",
       "\n",
       "    .dataframe thead tr th {\n",
       "        text-align: left;\n",
       "    }\n",
       "\n",
       "    .dataframe thead tr:last-of-type th {\n",
       "        text-align: right;\n",
       "    }\n",
       "</style>\n",
       "<table border=\"1\" class=\"dataframe\">\n",
       "  <thead>\n",
       "    <tr>\n",
       "      <th></th>\n",
       "      <th colspan=\"3\" halign=\"left\">population_proportions</th>\n",
       "      <th>unemployment_rate</th>\n",
       "    </tr>\n",
       "    <tr>\n",
       "      <th></th>\n",
       "      <th>employed</th>\n",
       "      <th>unemployed</th>\n",
       "      <th>change</th>\n",
       "      <th></th>\n",
       "    </tr>\n",
       "    <tr>\n",
       "      <th>professional_certification</th>\n",
       "      <th></th>\n",
       "      <th></th>\n",
       "      <th></th>\n",
       "      <th></th>\n",
       "    </tr>\n",
       "  </thead>\n",
       "  <tbody>\n",
       "    <tr>\n",
       "      <th>0</th>\n",
       "      <td>0.748</td>\n",
       "      <td>0.841</td>\n",
       "      <td>-0.093</td>\n",
       "      <td>0.04</td>\n",
       "    </tr>\n",
       "    <tr>\n",
       "      <th>1</th>\n",
       "      <td>0.252</td>\n",
       "      <td>0.159</td>\n",
       "      <td>0.093</td>\n",
       "      <td>0.02</td>\n",
       "    </tr>\n",
       "  </tbody>\n",
       "</table>\n",
       "</div>"
      ],
      "text/plain": [
       "                           population_proportions                    \\\n",
       "                                         employed unemployed change   \n",
       "professional_certification                                            \n",
       "0                                           0.748      0.841 -0.093   \n",
       "1                                           0.252      0.159  0.093   \n",
       "\n",
       "                           unemployment_rate  \n",
       "                                              \n",
       "professional_certification                    \n",
       "0                                       0.04  \n",
       "1                                       0.02  "
      ]
     },
     "execution_count": 5,
     "metadata": {},
     "output_type": "execute_result"
    }
   ],
   "source": [
    "#calls function to display visuals and results of statistical analysis and testing\n",
    "model.spotlight_stats(train, 'professional_certification', 'Better to have certification')"
   ]
  },
  {
   "cell_type": "markdown",
   "metadata": {},
   "source": [
    "## Exploration Summary\n",
    "* Overall the conventional wisdom surrounding job prospects held true.\n",
    "\n",
    "* It benefits an indvidual to acquire advanced dregrees and certifications\n",
    "* Having a job or career in an industry that leans more towards being a profession helps\n",
    "* With more time I want to dive into cross examinations of factors to see how they interact, but I'm doubtful that would help more than simply satisfying my curiousity. "
   ]
  },
  {
   "cell_type": "markdown",
   "metadata": {},
   "source": [
    "# Modeling\n",
    "* Models process was initially guided by Accuracy, but over time realized that approach was not actually doing a good job of capturing the obervations that were actually unemployed\n",
    "\n",
    "* After the 2 round of mass model testing adjust to filtering for models that had higher Sensitivity scores to more effectively capture the target. Prefer a model that correctly identifies a person that is unemployed than one that misses the vast majority\n",
    "\n",
    "* The models appeared to have an inverse relationship in this regard with many of the models having a Sensitivity rate above 30% also having an Accuracy below 70%\n",
    "\n",
    "* With the employed vs unemployed numbers being around 96% vs 4% this led me to feel the overall project is going to need **much** more work to have any greater value\n",
    "\n",
    "## Feature Groups for Modeling\n",
    "* Grouped by subject matter into four clumps in leiu of clustering\n",
    "\n",
    "* Feature Set 1: `industry`, `occupation`, `country_region`, `metro_area_size` , `professional_certification`, `own_bus_or_farm`,`education`  \n",
    "    - Chosen to highlight the business oriented concerns around employement\n",
    "    ---\n",
    "* Feature Set 2: `household_num`, `children_in_household`, `education`, `enrolled_in_school`, `family_income`, `marital_status`\n",
    "    - Highlights family and environment characteristics\n",
    "    ---\n",
    "* Feature Set 3: `age`, `is_male`, `veteran`, `hispanic_non`, `race`, `birth_country`, `mother_birth_country`, `father_birth_country`, `citizenship`, `education` \n",
    "    - Highlights personal characteristics \n",
    "    ---\n",
    "* Feature Set 4: `age`, `industry`, `occupation`,`professional_certification`,`education`,`marital_status`,`is_male`,`citizenship`\n",
    "    - Highlights areas that may appear on the typical resume or job applicaton"
   ]
  },
  {
   "cell_type": "markdown",
   "metadata": {},
   "source": [
    "## Top Models"
   ]
  },
  {
   "cell_type": "markdown",
   "metadata": {},
   "source": [
    "## Validate\n",
    "* Only 3 models fit final criteria from train set performance\n",
    "* Models needed Sensitivity score of at least 30%\n",
    "* Model:\n",
    "* Model:\n",
    "    - Name: LR_56\n",
    "    - Type: Logistic Regression\n",
    "    - C: `.5`\n",
    "    - Solver: `newton-cg`\n",
    "    - Weight: `balanced`    \n",
    "    - Features: `household_num`, `children_in_household`, `education`, `enrolled_in_school`, `family_income`, `marital_status`\n",
    "* Model:\n",
    "    - Name: LR_36\n",
    "    - Type: Logistic Regression\n",
    "    - C: `.1`\n",
    "    - Solver: `lbfgs`\n",
    "    - Weight: `balanced`\n",
    "    - Features: `household_num`, `children_in_household`, `education`, `enrolled_in_school`, `family_income`, `marital_status`"
   ]
  },
  {
   "cell_type": "markdown",
   "metadata": {},
   "source": [
    "## Test\n",
    "* Best Performing Model:\n",
    "    - Name: LR_16\n",
    "    - Type: Logistic Regression\n",
    "    - C: `.1`\n",
    "    - Solver: `lbfgs`\n",
    "    - Weight: `balanced`\n",
    "    - Features: `household_num`, `children_in_household`, `education`, `enrolled_in_school`, `family_income`, `marital_status`"
   ]
  },
  {
   "cell_type": "code",
   "execution_count": 6,
   "metadata": {},
   "outputs": [],
   "source": [
    "#import features sets for use with modeling\n",
    "feature_bank = model.get_features()"
   ]
  },
  {
   "cell_type": "code",
   "execution_count": 7,
   "metadata": {},
   "outputs": [],
   "source": [
    "#Performs modeling, testing, and scoring.\n",
    "#outputs results of final model test\n",
    "test_metrics, top_3 = model.for_final_report(train_scaled, validate_scaled, test_scaled, feature_bank)"
   ]
  },
  {
   "cell_type": "code",
   "execution_count": 8,
   "metadata": {},
   "outputs": [
    {
     "data": {
      "text/html": [
       "<div>\n",
       "<style scoped>\n",
       "    .dataframe tbody tr th:only-of-type {\n",
       "        vertical-align: middle;\n",
       "    }\n",
       "\n",
       "    .dataframe tbody tr th {\n",
       "        vertical-align: top;\n",
       "    }\n",
       "\n",
       "    .dataframe thead th {\n",
       "        text-align: right;\n",
       "    }\n",
       "</style>\n",
       "<table border=\"1\" class=\"dataframe\">\n",
       "  <thead>\n",
       "    <tr style=\"text-align: right;\">\n",
       "      <th></th>\n",
       "      <th>Model</th>\n",
       "      <th>Accuracy(Score)</th>\n",
       "      <th>Sensitivity</th>\n",
       "      <th>Type</th>\n",
       "      <th>Features Used</th>\n",
       "      <th>Parameters</th>\n",
       "    </tr>\n",
       "  </thead>\n",
       "  <tbody>\n",
       "    <tr>\n",
       "      <th>17</th>\n",
       "      <td>LR_16</td>\n",
       "      <td>0.6842</td>\n",
       "      <td>0.6199</td>\n",
       "      <td>Logistic Regression</td>\n",
       "      <td>['household_num', 'children_in_household', 'ed...</td>\n",
       "      <td>C: 0.1, Solver: newton-cg, Class Weight: balanced</td>\n",
       "    </tr>\n",
       "    <tr>\n",
       "      <th>19</th>\n",
       "      <td>LR_36</td>\n",
       "      <td>0.6913</td>\n",
       "      <td>0.6173</td>\n",
       "      <td>Logistic Regression</td>\n",
       "      <td>['household_num', 'children_in_household', 'ed...</td>\n",
       "      <td>C: 0.5, Solver: newton-cg, Class Weight: balanced</td>\n",
       "    </tr>\n",
       "    <tr>\n",
       "      <th>21</th>\n",
       "      <td>LR_56</td>\n",
       "      <td>0.6913</td>\n",
       "      <td>0.6148</td>\n",
       "      <td>Logistic Regression</td>\n",
       "      <td>['household_num', 'children_in_household', 'ed...</td>\n",
       "      <td>C: 1, Solver: newton-cg, Class Weight: balanced</td>\n",
       "    </tr>\n",
       "  </tbody>\n",
       "</table>\n",
       "</div>"
      ],
      "text/plain": [
       "    Model  Accuracy(Score)  Sensitivity                 Type  \\\n",
       "17  LR_16           0.6842       0.6199  Logistic Regression   \n",
       "19  LR_36           0.6913       0.6173  Logistic Regression   \n",
       "21  LR_56           0.6913       0.6148  Logistic Regression   \n",
       "\n",
       "                                        Features Used  \\\n",
       "17  ['household_num', 'children_in_household', 'ed...   \n",
       "19  ['household_num', 'children_in_household', 'ed...   \n",
       "21  ['household_num', 'children_in_household', 'ed...   \n",
       "\n",
       "                                           Parameters  \n",
       "17  C: 0.1, Solver: newton-cg, Class Weight: balanced  \n",
       "19  C: 0.5, Solver: newton-cg, Class Weight: balanced  \n",
       "21    C: 1, Solver: newton-cg, Class Weight: balanced  "
      ]
     },
     "execution_count": 8,
     "metadata": {},
     "output_type": "execute_result"
    }
   ],
   "source": [
    "top_3"
   ]
  },
  {
   "cell_type": "code",
   "execution_count": 9,
   "metadata": {},
   "outputs": [
    {
     "data": {
      "text/html": [
       "<div>\n",
       "<style scoped>\n",
       "    .dataframe tbody tr th:only-of-type {\n",
       "        vertical-align: middle;\n",
       "    }\n",
       "\n",
       "    .dataframe tbody tr th {\n",
       "        vertical-align: top;\n",
       "    }\n",
       "\n",
       "    .dataframe thead th {\n",
       "        text-align: right;\n",
       "    }\n",
       "</style>\n",
       "<table border=\"1\" class=\"dataframe\">\n",
       "  <thead>\n",
       "    <tr style=\"text-align: right;\">\n",
       "      <th></th>\n",
       "      <th>LR_16</th>\n",
       "    </tr>\n",
       "  </thead>\n",
       "  <tbody>\n",
       "    <tr>\n",
       "      <th>Accuracy/Score</th>\n",
       "      <td>0.6897</td>\n",
       "    </tr>\n",
       "    <tr>\n",
       "      <th>True Positives</th>\n",
       "      <td>6792.0000</td>\n",
       "    </tr>\n",
       "    <tr>\n",
       "      <th>False Positives</th>\n",
       "      <td>145.0000</td>\n",
       "    </tr>\n",
       "    <tr>\n",
       "      <th>True Negatives</th>\n",
       "      <td>182.0000</td>\n",
       "    </tr>\n",
       "    <tr>\n",
       "      <th>False Negatives</th>\n",
       "      <td>2993.0000</td>\n",
       "    </tr>\n",
       "    <tr>\n",
       "      <th>TPR/Recall</th>\n",
       "      <td>0.6941</td>\n",
       "    </tr>\n",
       "    <tr>\n",
       "      <th>False Positive Rate</th>\n",
       "      <td>0.4434</td>\n",
       "    </tr>\n",
       "    <tr>\n",
       "      <th>True Negative Rate</th>\n",
       "      <td>0.5566</td>\n",
       "    </tr>\n",
       "    <tr>\n",
       "      <th>False Negative Rate</th>\n",
       "      <td>0.3059</td>\n",
       "    </tr>\n",
       "    <tr>\n",
       "      <th>Precision</th>\n",
       "      <td>0.9791</td>\n",
       "    </tr>\n",
       "    <tr>\n",
       "      <th>F1-Score</th>\n",
       "      <td>0.8123</td>\n",
       "    </tr>\n",
       "    <tr>\n",
       "      <th>Support Positive</th>\n",
       "      <td>9785.0000</td>\n",
       "    </tr>\n",
       "    <tr>\n",
       "      <th>Support Negative</th>\n",
       "      <td>327.0000</td>\n",
       "    </tr>\n",
       "  </tbody>\n",
       "</table>\n",
       "</div>"
      ],
      "text/plain": [
       "                         LR_16\n",
       "Accuracy/Score          0.6897\n",
       "True Positives       6792.0000\n",
       "False Positives       145.0000\n",
       "True Negatives        182.0000\n",
       "False Negatives      2993.0000\n",
       "TPR/Recall              0.6941\n",
       "False Positive Rate     0.4434\n",
       "True Negative Rate      0.5566\n",
       "False Negative Rate     0.3059\n",
       "Precision               0.9791\n",
       "F1-Score                0.8123\n",
       "Support Positive     9785.0000\n",
       "Support Negative      327.0000"
      ]
     },
     "execution_count": 9,
     "metadata": {},
     "output_type": "execute_result"
    }
   ],
   "source": [
    "test_metrics"
   ]
  },
  {
   "cell_type": "markdown",
   "metadata": {},
   "source": [
    "# Conclusion\n",
    "## Summary of Key Findings\n",
    ">* As a portion the population unemployed individuals are small.\n",
    ">- Overwhelming majorities of people are either employed or not in the labor force due to disability, retirement, or other reasons. \n",
    ">* Testing confirms that being educated, married, and with a professional certification are good ways to stay away from unemployement. \n",
    ">- From a modeling/ML perspective this project was not one where the Accuracy/Scoring played a big part. The best models in that area underperformed when it came to correctly identifying unemployed persons.\n",
    ">* Shifted focus to generating models with better Sensitivy/True Negative Rate performance\n",
    "---\n",
    "## Suggestions and Next Steps\n",
    ">* Do not suggest using these models for any sort of analysis or research\n",
    ">- Subpar performance when attempting to correctly identify employment status\n",
    ">* Will work to expand the data set, and possibly port project over to the wider 2020 census data\n",
    ">- Also would like to expand skillset to work with other ML strategies for classification\n",
    ">* Future development of this project will focus on really driving up the True Negative Rates of the model metrics so I can better capture employment disposition\n"
   ]
  }
 ],
 "metadata": {
  "kernelspec": {
   "display_name": "Python 3.9.12 ('base')",
   "language": "python",
   "name": "python3"
  },
  "language_info": {
   "codemirror_mode": {
    "name": "ipython",
    "version": 3
   },
   "file_extension": ".py",
   "mimetype": "text/x-python",
   "name": "python",
   "nbconvert_exporter": "python",
   "pygments_lexer": "ipython3",
   "version": "3.9.12"
  },
  "orig_nbformat": 4,
  "vscode": {
   "interpreter": {
    "hash": "38cca0c38332a56087b24af0bc80247f4fced29cb4f7f437d91dc159adec9c4e"
   }
  }
 },
 "nbformat": 4,
 "nbformat_minor": 2
}
