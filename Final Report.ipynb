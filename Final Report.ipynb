{
 "cells": [
  {
   "cell_type": "markdown",
   "metadata": {},
   "source": [
    "# Introduction"
   ]
  },
  {
   "cell_type": "markdown",
   "metadata": {},
   "source": [
    "* Hello, my name is Shorter\n",
    "* This is a project attempting to construct a ML to predict unemployment"
   ]
  },
  {
   "cell_type": "markdown",
   "metadata": {},
   "source": [
    "## Project Objective \n",
    "* 8"
   ]
  },
  {
   "cell_type": "markdown",
   "metadata": {},
   "source": [
    "## Executive Summary\n"
   ]
  },
  {
   "cell_type": "markdown",
   "metadata": {},
   "source": [
    ">* Analysis of the data showed that unemployment rates are fairly small across most population groups\n",
    ">* Statistical testing confirmed the results across nearly all features\n",
    ">* The small percentage of the population that is unemployed actually made it more difficult to correctly model\n",
    ">* Accuracy scores for the models were high, but true negative rates were extremely low for models that scored best in that area"
   ]
  },
  {
   "cell_type": "markdown",
   "metadata": {},
   "source": [
    "# Import Section"
   ]
  },
  {
   "cell_type": "code",
   "execution_count": 1,
   "metadata": {},
   "outputs": [],
   "source": [
    "import pandas as pd\n",
    "import model\n",
    "import wrangle"
   ]
  },
  {
   "cell_type": "markdown",
   "metadata": {},
   "source": [
    "# Wrangle (Acquire and Prep)\n",
    "> \n",
    "* Feature Engineering\n",
    "> Flattening:\n",
    "-\n",
    "> Features:\n",
    "-   \n",
    "> Clusters:\n",
    "-   \n",
    "> Split:  \n",
    "- Train: 54%  \n",
    "- Validate: 24%  \n",
    "- Test: 20%  \n",
    "> Scaled:  \n",
    "- MinMaxScaler(): Used for cluster engineering and modeling  \n",
    "\n",
    "    "
   ]
  },
  {
   "cell_type": "markdown",
   "metadata": {},
   "source": [
    "## Acquire"
   ]
  },
  {
   "cell_type": "code",
   "execution_count": null,
   "metadata": {},
   "outputs": [],
   "source": [
    "from importlib import reload\n",
    "reload()"
   ]
  },
  {
   "cell_type": "code",
   "execution_count": 4,
   "metadata": {},
   "outputs": [
    {
     "name": "stderr",
     "output_type": "stream",
     "text": [
      "/Users/sinao/codeup-data-science/unemployment_project/wrangle.py:219: SettingWithCopyWarning: \n",
      "A value is trying to be set on a copy of a slice from a DataFrame.\n",
      "Try using .loc[row_indexer,col_indexer] = value instead\n",
      "\n",
      "See the caveats in the documentation: https://pandas.pydata.org/pandas-docs/stable/user_guide/indexing.html#returning-a-view-versus-a-copy\n",
      "  df.iloc[np.where(df.peafnow == 1)]['peafever'] = 1\n",
      "/Users/sinao/codeup-data-science/unemployment_project/wrangle.py:229: SettingWithCopyWarning: \n",
      "A value is trying to be set on a copy of a slice from a DataFrame.\n",
      "Try using .loc[row_indexer,col_indexer] = value instead\n",
      "\n",
      "See the caveats in the documentation: https://pandas.pydata.org/pandas-docs/stable/user_guide/indexing.html#returning-a-view-versus-a-copy\n",
      "  df[df.pehrftpt == 1]['pehruslt'] = more_than_35\n",
      "/Users/sinao/codeup-data-science/unemployment_project/wrangle.py:230: SettingWithCopyWarning: \n",
      "A value is trying to be set on a copy of a slice from a DataFrame.\n",
      "Try using .loc[row_indexer,col_indexer] = value instead\n",
      "\n",
      "See the caveats in the documentation: https://pandas.pydata.org/pandas-docs/stable/user_guide/indexing.html#returning-a-view-versus-a-copy\n",
      "  df[df.pehrftpt == 2]['pehruslt'] = less_than_35\n"
     ]
    }
   ],
   "source": [
    "#calling prepare/acquire functions from module to acruire data subsets\n",
    "df = wrangle.prep_aug()\n",
    "\n",
    "train, validate, test, train_scaled, validate_scaled, test_scaled = model.split_scale(df)"
   ]
  },
  {
   "cell_type": "markdown",
   "metadata": {},
   "source": [
    "## Exploration Questions \n",
    "* Includes visualizations and statistical tests\n",
    "* Primarily focused on items that appear on the typical resume or job application"
   ]
  },
  {
   "cell_type": "markdown",
   "metadata": {},
   "source": [
    "### Spotlight - Industry \n",
    "* **Question:** Which industry shows the largest population proportion change between employed and unemployed?  \n",
    "* **Answer:** Leisure and Hospitality. This industry also has the highest unemployment rate at 6%\n",
    "\n",
    "#### Statistical Hypothesis\n",
    ">* ${H_0}$: There is no relationship between industry of typical employment and employment status   \n",
    ">* ${H_a}$: There is a relationship between industry of typical employment and employment status  \n",
    ">* ${\\alpha}$: .05  \n",
    ">* Result: There is enough evidence to reject our null hypothesis. **Test code below**"
   ]
  },
  {
   "cell_type": "code",
   "execution_count": 5,
   "metadata": {},
   "outputs": [
    {
     "name": "stdout",
     "output_type": "stream",
     "text": [
      "chi^2: 3659.8474\n",
      "p: 0.0000\n",
      "degrees of freedom: 13\n",
      "Reject null hypothesis\n"
     ]
    },
    {
     "data": {
      "text/plain": [
       "<Figure size 1440x432 with 0 Axes>"
      ]
     },
     "metadata": {},
     "output_type": "display_data"
    },
    {
     "data": {
      "image/png": "[encoded data removed]",
      "text/plain": [
       "<Figure size 720x360 with 2 Axes>"
      ]
     },
     "metadata": {
      "needs_background": "light"
     },
     "output_type": "display_data"
    },
    {
     "data": {
      "text/html": [
       "<div>\n",
       "<style scoped>\n",
       "    .dataframe tbody tr th:only-of-type {\n",
       "        vertical-align: middle;\n",
       "    }\n",
       "\n",
       "    .dataframe tbody tr th {\n",
       "        vertical-align: top;\n",
       "    }\n",
       "\n",
       "    .dataframe thead tr th {\n",
       "        text-align: left;\n",
       "    }\n",
       "\n",
       "    .dataframe thead tr:last-of-type th {\n",
       "        text-align: right;\n",
       "    }\n",
       "</style>\n",
       "<table border=\"1\" class=\"dataframe\">\n",
       "  <thead>\n",
       "    <tr>\n",
       "      <th></th>\n",
       "      <th colspan=\"3\" halign=\"left\">population_proportions</th>\n",
       "      <th>unemployment_rate</th>\n",
       "    </tr>\n",
       "    <tr>\n",
       "      <th></th>\n",
       "      <th>employed</th>\n",
       "      <th>unemployed</th>\n",
       "      <th>change</th>\n",
       "      <th></th>\n",
       "    </tr>\n",
       "    <tr>\n",
       "      <th>industry</th>\n",
       "      <th></th>\n",
       "      <th></th>\n",
       "      <th></th>\n",
       "      <th></th>\n",
       "    </tr>\n",
       "  </thead>\n",
       "  <tbody>\n",
       "    <tr>\n",
       "      <th>-1.0</th>\n",
       "      <td>NaN</td>\n",
       "      <td>0.131</td>\n",
       "      <td>NaN</td>\n",
       "      <td>1.00</td>\n",
       "    </tr>\n",
       "    <tr>\n",
       "      <th>11.0</th>\n",
       "      <td>0.088</td>\n",
       "      <td>0.136</td>\n",
       "      <td>-0.048</td>\n",
       "      <td>0.06</td>\n",
       "    </tr>\n",
       "    <tr>\n",
       "      <th>6.0</th>\n",
       "      <td>0.059</td>\n",
       "      <td>0.059</td>\n",
       "      <td>0.000</td>\n",
       "      <td>0.04</td>\n",
       "    </tr>\n",
       "    <tr>\n",
       "      <th>9.0</th>\n",
       "      <td>0.127</td>\n",
       "      <td>0.118</td>\n",
       "      <td>0.009</td>\n",
       "      <td>0.03</td>\n",
       "    </tr>\n",
       "    <tr>\n",
       "      <th>1.0</th>\n",
       "      <td>0.019</td>\n",
       "      <td>0.017</td>\n",
       "      <td>0.002</td>\n",
       "      <td>0.03</td>\n",
       "    </tr>\n",
       "    <tr>\n",
       "      <th>3.0</th>\n",
       "      <td>0.074</td>\n",
       "      <td>0.065</td>\n",
       "      <td>0.009</td>\n",
       "      <td>0.03</td>\n",
       "    </tr>\n",
       "    <tr>\n",
       "      <th>10.0</th>\n",
       "      <td>0.224</td>\n",
       "      <td>0.185</td>\n",
       "      <td>0.039</td>\n",
       "      <td>0.03</td>\n",
       "    </tr>\n",
       "    <tr>\n",
       "      <th>5.0</th>\n",
       "      <td>0.122</td>\n",
       "      <td>0.099</td>\n",
       "      <td>0.022</td>\n",
       "      <td>0.03</td>\n",
       "    </tr>\n",
       "    <tr>\n",
       "      <th>7.0</th>\n",
       "      <td>0.017</td>\n",
       "      <td>0.013</td>\n",
       "      <td>0.004</td>\n",
       "      <td>0.03</td>\n",
       "    </tr>\n",
       "    <tr>\n",
       "      <th>4.0</th>\n",
       "      <td>0.097</td>\n",
       "      <td>0.076</td>\n",
       "      <td>0.021</td>\n",
       "      <td>0.03</td>\n",
       "    </tr>\n",
       "    <tr>\n",
       "      <th>12.0</th>\n",
       "      <td>0.050</td>\n",
       "      <td>0.037</td>\n",
       "      <td>0.013</td>\n",
       "      <td>0.03</td>\n",
       "    </tr>\n",
       "    <tr>\n",
       "      <th>8.0</th>\n",
       "      <td>0.066</td>\n",
       "      <td>0.039</td>\n",
       "      <td>0.027</td>\n",
       "      <td>0.02</td>\n",
       "    </tr>\n",
       "    <tr>\n",
       "      <th>2.0</th>\n",
       "      <td>0.006</td>\n",
       "      <td>0.003</td>\n",
       "      <td>0.003</td>\n",
       "      <td>0.02</td>\n",
       "    </tr>\n",
       "    <tr>\n",
       "      <th>13.0</th>\n",
       "      <td>0.051</td>\n",
       "      <td>0.022</td>\n",
       "      <td>0.030</td>\n",
       "      <td>0.02</td>\n",
       "    </tr>\n",
       "  </tbody>\n",
       "</table>\n",
       "</div>"
      ],
      "text/plain": [
       "         population_proportions                   unemployment_rate\n",
       "                       employed unemployed change                  \n",
       "industry                                                           \n",
       "-1.0                        NaN      0.131    NaN              1.00\n",
       " 11.0                     0.088      0.136 -0.048              0.06\n",
       " 6.0                      0.059      0.059  0.000              0.04\n",
       " 9.0                      0.127      0.118  0.009              0.03\n",
       " 1.0                      0.019      0.017  0.002              0.03\n",
       " 3.0                      0.074      0.065  0.009              0.03\n",
       " 10.0                     0.224      0.185  0.039              0.03\n",
       " 5.0                      0.122      0.099  0.022              0.03\n",
       " 7.0                      0.017      0.013  0.004              0.03\n",
       " 4.0                      0.097      0.076  0.021              0.03\n",
       " 12.0                     0.050      0.037  0.013              0.03\n",
       " 8.0                      0.066      0.039  0.027              0.02\n",
       " 2.0                      0.006      0.003  0.003              0.02\n",
       " 13.0                     0.051      0.022  0.030              0.02"
      ]
     },
     "execution_count": 5,
     "metadata": {},
     "output_type": "execute_result"
    }
   ],
   "source": [
    "model.spotlight_stats(train, 'industry')"
   ]
  },
  {
   "cell_type": "markdown",
   "metadata": {},
   "source": [
    "### Spotlight - Race\n",
    "* **Question:** Which industry shows the largest population proportion change between employed and unemployed?\n",
    "\n",
    "* **Answer:** Indivduals identifying as White show the largest population proportion change with a drop of nearly 10% when comparing employed vs unemployed. Those identifying as mixed race other than with white, and Indigenous have the highest unemployed rates at 12% and 7% respectively. \n",
    "\n",
    "#### Statistical Hypothesis\n",
    ">* ${H_0}$: There is no relationship between `race` and `employment` status   \n",
    ">* ${H_a}$: There is a relationship between `race` and `employment` status   \n",
    ">* ${\\alpha}$: .05  \n",
    ">* Result: There is enough evidence to reject our null hypothesis. **Test code below**"
   ]
  },
  {
   "cell_type": "code",
   "execution_count": 6,
   "metadata": {},
   "outputs": [
    {
     "name": "stdout",
     "output_type": "stream",
     "text": [
      "chi^2: 107.4868\n",
      "p: 0.0000\n",
      "degrees of freedom: 6\n",
      "Reject null hypothesis\n"
     ]
    },
    {
     "data": {
      "text/plain": [
       "<Figure size 1440x432 with 0 Axes>"
      ]
     },
     "metadata": {},
     "output_type": "display_data"
    },
    {
     "data": {
      "image/png": "[encoded data removed]",
      "text/plain": [
       "<Figure size 720x360 with 2 Axes>"
      ]
     },
     "metadata": {
      "needs_background": "light"
     },
     "output_type": "display_data"
    },
    {
     "data": {
      "text/html": [
       "<div>\n",
       "<style scoped>\n",
       "    .dataframe tbody tr th:only-of-type {\n",
       "        vertical-align: middle;\n",
       "    }\n",
       "\n",
       "    .dataframe tbody tr th {\n",
       "        vertical-align: top;\n",
       "    }\n",
       "\n",
       "    .dataframe thead tr th {\n",
       "        text-align: left;\n",
       "    }\n",
       "\n",
       "    .dataframe thead tr:last-of-type th {\n",
       "        text-align: right;\n",
       "    }\n",
       "</style>\n",
       "<table border=\"1\" class=\"dataframe\">\n",
       "  <thead>\n",
       "    <tr>\n",
       "      <th></th>\n",
       "      <th colspan=\"3\" halign=\"left\">population_proportions</th>\n",
       "      <th>unemployment_rate</th>\n",
       "    </tr>\n",
       "    <tr>\n",
       "      <th></th>\n",
       "      <th>employed</th>\n",
       "      <th>unemployed</th>\n",
       "      <th>change</th>\n",
       "      <th></th>\n",
       "    </tr>\n",
       "    <tr>\n",
       "      <th>race</th>\n",
       "      <th></th>\n",
       "      <th></th>\n",
       "      <th></th>\n",
       "      <th></th>\n",
       "    </tr>\n",
       "  </thead>\n",
       "  <tbody>\n",
       "    <tr>\n",
       "      <th>mixed_other</th>\n",
       "      <td>0.003</td>\n",
       "      <td>0.012</td>\n",
       "      <td>-0.009</td>\n",
       "      <td>0.12</td>\n",
       "    </tr>\n",
       "    <tr>\n",
       "      <th>AI/NA</th>\n",
       "      <td>0.012</td>\n",
       "      <td>0.023</td>\n",
       "      <td>-0.011</td>\n",
       "      <td>0.07</td>\n",
       "    </tr>\n",
       "    <tr>\n",
       "      <th>black</th>\n",
       "      <td>0.099</td>\n",
       "      <td>0.175</td>\n",
       "      <td>-0.076</td>\n",
       "      <td>0.06</td>\n",
       "    </tr>\n",
       "    <tr>\n",
       "      <th>HI/PI</th>\n",
       "      <td>0.006</td>\n",
       "      <td>0.009</td>\n",
       "      <td>-0.003</td>\n",
       "      <td>0.06</td>\n",
       "    </tr>\n",
       "    <tr>\n",
       "      <th>mixed_white</th>\n",
       "      <td>0.016</td>\n",
       "      <td>0.024</td>\n",
       "      <td>-0.008</td>\n",
       "      <td>0.06</td>\n",
       "    </tr>\n",
       "    <tr>\n",
       "      <th>white</th>\n",
       "      <td>0.801</td>\n",
       "      <td>0.705</td>\n",
       "      <td>0.095</td>\n",
       "      <td>0.03</td>\n",
       "    </tr>\n",
       "    <tr>\n",
       "      <th>asian</th>\n",
       "      <td>0.063</td>\n",
       "      <td>0.052</td>\n",
       "      <td>0.011</td>\n",
       "      <td>0.03</td>\n",
       "    </tr>\n",
       "  </tbody>\n",
       "</table>\n",
       "</div>"
      ],
      "text/plain": [
       "            population_proportions                   unemployment_rate\n",
       "                          employed unemployed change                  \n",
       "race                                                                  \n",
       "mixed_other                  0.003      0.012 -0.009              0.12\n",
       "AI/NA                        0.012      0.023 -0.011              0.07\n",
       "black                        0.099      0.175 -0.076              0.06\n",
       "HI/PI                        0.006      0.009 -0.003              0.06\n",
       "mixed_white                  0.016      0.024 -0.008              0.06\n",
       "white                        0.801      0.705  0.095              0.03\n",
       "asian                        0.063      0.052  0.011              0.03"
      ]
     },
     "execution_count": 6,
     "metadata": {},
     "output_type": "execute_result"
    }
   ],
   "source": [
    "model.spotlight_stats(train, 'race')"
   ]
  },
  {
   "cell_type": "markdown",
   "metadata": {},
   "source": [
    "### Spotlight - Professional Certification\n",
    "* **Question:** What is the effect of having a professional certification? \n",
    " \n",
    "* **Answer:** Leisure and Hospitality. This industry also has the highest unemployment rate at 6%\n",
    "\n",
    "#### Statistical Hypothesis\n",
    ">* ${H_0}$: There is no relationship between having a `professional_certification` and `employment`  \n",
    ">* ${H_a}$: There is a relationship between having a `professional_certification` and `employment`    \n",
    ">* ${\\alpha}$: .05\n",
    ">* Result: There is enough evidence to reject our null hypothesis. **Test code below**"
   ]
  },
  {
   "cell_type": "code",
   "execution_count": 7,
   "metadata": {},
   "outputs": [
    {
     "name": "stdout",
     "output_type": "stream",
     "text": [
      "chi^2: 56.8554\n",
      "p: 0.0000\n",
      "degrees of freedom: 1\n",
      "Reject null hypothesis\n"
     ]
    },
    {
     "data": {
      "text/plain": [
       "<Figure size 1440x432 with 0 Axes>"
      ]
     },
     "metadata": {},
     "output_type": "display_data"
    },
    {
     "data": {
      "image/png": "[encoded data removed]",
      "text/plain": [
       "<Figure size 720x360 with 2 Axes>"
      ]
     },
     "metadata": {
      "needs_background": "light"
     },
     "output_type": "display_data"
    },
    {
     "data": {
      "text/html": [
       "<div>\n",
       "<style scoped>\n",
       "    .dataframe tbody tr th:only-of-type {\n",
       "        vertical-align: middle;\n",
       "    }\n",
       "\n",
       "    .dataframe tbody tr th {\n",
       "        vertical-align: top;\n",
       "    }\n",
       "\n",
       "    .dataframe thead tr th {\n",
       "        text-align: left;\n",
       "    }\n",
       "\n",
       "    .dataframe thead tr:last-of-type th {\n",
       "        text-align: right;\n",
       "    }\n",
       "</style>\n",
       "<table border=\"1\" class=\"dataframe\">\n",
       "  <thead>\n",
       "    <tr>\n",
       "      <th></th>\n",
       "      <th colspan=\"3\" halign=\"left\">population_proportions</th>\n",
       "      <th>unemployment_rate</th>\n",
       "    </tr>\n",
       "    <tr>\n",
       "      <th></th>\n",
       "      <th>employed</th>\n",
       "      <th>unemployed</th>\n",
       "      <th>change</th>\n",
       "      <th></th>\n",
       "    </tr>\n",
       "    <tr>\n",
       "      <th>professional_certification</th>\n",
       "      <th></th>\n",
       "      <th></th>\n",
       "      <th></th>\n",
       "      <th></th>\n",
       "    </tr>\n",
       "  </thead>\n",
       "  <tbody>\n",
       "    <tr>\n",
       "      <th>0</th>\n",
       "      <td>0.752</td>\n",
       "      <td>0.854</td>\n",
       "      <td>-0.102</td>\n",
       "      <td>0.04</td>\n",
       "    </tr>\n",
       "    <tr>\n",
       "      <th>1</th>\n",
       "      <td>0.248</td>\n",
       "      <td>0.146</td>\n",
       "      <td>0.102</td>\n",
       "      <td>0.02</td>\n",
       "    </tr>\n",
       "  </tbody>\n",
       "</table>\n",
       "</div>"
      ],
      "text/plain": [
       "                           population_proportions                    \\\n",
       "                                         employed unemployed change   \n",
       "professional_certification                                            \n",
       "0                                           0.752      0.854 -0.102   \n",
       "1                                           0.248      0.146  0.102   \n",
       "\n",
       "                           unemployment_rate  \n",
       "                                              \n",
       "professional_certification                    \n",
       "0                                       0.04  \n",
       "1                                       0.02  "
      ]
     },
     "execution_count": 7,
     "metadata": {},
     "output_type": "execute_result"
    }
   ],
   "source": [
    "model.spotlight_stats(train, 'professional_certification')"
   ]
  },
  {
   "cell_type": "markdown",
   "metadata": {},
   "source": [
    "## Overall Exploration Takeaways\n",
    "* "
   ]
  },
  {
   "cell_type": "markdown",
   "metadata": {},
   "source": [
    "# Modeling\n"
   ]
  },
  {
   "cell_type": "markdown",
   "metadata": {},
   "source": [
    "## Top Models"
   ]
  },
  {
   "cell_type": "markdown",
   "metadata": {},
   "source": [
    "## Test\n",
    "* Best Performing Model:\n",
    "    - Name:\n",
    "    - Type:  \n",
    "    - Alpha: 0\n",
    "    - Features: "
   ]
  },
  {
   "cell_type": "code",
   "execution_count": 18,
   "metadata": {},
   "outputs": [
    {
     "data": {
      "text/html": [
       "<div>\n",
       "<style scoped>\n",
       "    .dataframe tbody tr th:only-of-type {\n",
       "        vertical-align: middle;\n",
       "    }\n",
       "\n",
       "    .dataframe tbody tr th {\n",
       "        vertical-align: top;\n",
       "    }\n",
       "\n",
       "    .dataframe thead th {\n",
       "        text-align: right;\n",
       "    }\n",
       "</style>\n",
       "<table border=\"1\" class=\"dataframe\">\n",
       "  <thead>\n",
       "    <tr style=\"text-align: right;\">\n",
       "      <th></th>\n",
       "      <th>Name</th>\n",
       "      <th>RMSE</th>\n",
       "    </tr>\n",
       "  </thead>\n",
       "  <tbody>\n",
       "    <tr>\n",
       "      <th>0</th>\n",
       "      <td>pred_median</td>\n",
       "      <td>0.153141</td>\n",
       "    </tr>\n",
       "    <tr>\n",
       "      <th>1</th>\n",
       "      <td>LARS_1</td>\n",
       "      <td>0.152985</td>\n",
       "    </tr>\n",
       "  </tbody>\n",
       "</table>\n",
       "</div>"
      ],
      "text/plain": [
       "          Name      RMSE\n",
       "0  pred_median  0.153141\n",
       "1       LARS_1  0.152985"
      ]
     },
     "execution_count": 18,
     "metadata": {},
     "output_type": "execute_result"
    }
   ],
   "source": [
    "#calls function from  model module to fit and test the best perfoming model on the test subset "
   ]
  },
  {
   "cell_type": "markdown",
   "metadata": {},
   "source": [
    "# Conclusion"
   ]
  },
  {
   "cell_type": "markdown",
   "metadata": {},
   "source": [
    "## Summary of Key Findings\n",
    ">* As a portion the population unemployed individuals are small. \n",
    ">* Overwhelming majorities of people are either employed or not in the labor force due to disability, retirement, or other reasons. \n",
    ">* Testing confirms that being educated, married, and with a professional certification are good ways to stay away from unemployement. \n",
    ">* From a modeling/ML perspective this project was not one where the Accuracy/Scoring played a big part. The best models in that area underperformed when it came to correctly identifying unemployed persons.  \n",
    ">* Feature sets informed by \n",
    "    * Best model \n",
    ">* Model gain on predictive performance vs. baseline prediction \n",
    "    *  "
   ]
  },
  {
   "cell_type": "markdown",
   "metadata": {},
   "source": [
    "## Suggestions and Next Steps\n",
    ">* Do not suggest using these models for any sort of analysis or research\n",
    ">* Subpar performance when attempting to correctly identify employment status\n",
    ">* Will work to expand the data set, and possibly port project over to the wider 2020 census data\n",
    ">* Also would like to expand skillset to work with other ML strategies for classification\n",
    ">* Future development of this project will focus on really driving up the True Negative Rates of the model metrics so I can better capture employment disposition\n"
   ]
  }
 ],
 "metadata": {
  "kernelspec": {
   "display_name": "Python 3.9.12 ('base')",
   "language": "python",
   "name": "python3"
  },
  "language_info": {
   "codemirror_mode": {
    "name": "ipython",
    "version": 3
   },
   "file_extension": ".py",
   "mimetype": "text/x-python",
   "name": "python",
   "nbconvert_exporter": "python",
   "pygments_lexer": "ipython3",
   "version": "3.9.12"
  },
  "orig_nbformat": 4,
  "vscode": {
   "interpreter": {
    "hash": "38cca0c38332a56087b24af0bc80247f4fced29cb4f7f437d91dc159adec9c4e"
   }
  }
 },
 "nbformat": 4,
 "nbformat_minor": 2
}
