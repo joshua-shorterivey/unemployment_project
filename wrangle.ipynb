{
 "cells": [
  {
   "cell_type": "markdown",
   "metadata": {},
   "source": [
    "# Imports"
   ]
  },
  {
   "cell_type": "code",
   "execution_count": 394,
   "metadata": {},
   "outputs": [],
   "source": [
    "import pandas as pd\n",
    "import numpy as np\n",
    "import seaborn as sns\n",
    "import matplotlib.pyplot as plt\n",
    "\n",
    "from os.path import exists\n",
    "\n",
    "from sklearn.model_selection import train_test_split\n",
    "from sklearn.impute import SimpleImputer\n",
    "from sklearn.preprocessing import MinMaxScaler\n",
    "from sklearn import preprocessing\n",
    "\n",
    "import warnings\n",
    "warnings.filterwarnings(\"ignore\")\n"
   ]
  },
  {
   "cell_type": "markdown",
   "metadata": {},
   "source": [
    "# Acquire"
   ]
  },
  {
   "cell_type": "code",
   "execution_count": 395,
   "metadata": {},
   "outputs": [],
   "source": [
    "raw = pd.read_csv('aug22pub.csv')"
   ]
  },
  {
   "cell_type": "code",
   "execution_count": 396,
   "metadata": {},
   "outputs": [
    {
     "name": "stdout",
     "output_type": "stream",
     "text": [
      "<class 'pandas.core.frame.DataFrame'>\n",
      "RangeIndex: 127932 entries, 0 to 127931\n",
      "Columns: 388 entries, hrhhid2 to pternh2\n",
      "dtypes: float64(337), int64(51)\n",
      "memory usage: 378.7 MB\n"
     ]
    }
   ],
   "source": [
    "raw.info()"
   ]
  },
  {
   "cell_type": "code",
   "execution_count": 397,
   "metadata": {},
   "outputs": [],
   "source": [
    "raw.columns = raw.columns.str.lower()"
   ]
  },
  {
   "cell_type": "markdown",
   "metadata": {},
   "source": [
    "## Desired Columns\n",
    "\n",
    "'hryear4', 'hurespli', 'hufinal', 'hetenure', 'hehousut', 'hetelavl', 'hefaminc', 'hrnumhou', 'hrhtype', hrlonglk, hrhhid2, hubus, hubusl1, hubusl2, hubusl4, gereg, gediv, gestfips, gtcbsast, gtmetsta, gtcbsasz, prtage, partfage, pemaritl, peafever, peafnow, peeduca, ptdtrace, prdthsp, pehspnon, prmarsta, prpertyp, penatvty, pemntvty, pefntvty, prcitshp, prinusyr, pemlr, puwk, pubus1, pubus2ot, pudis, peret1, pudis1, pudis2, puabsot, pulay, peabsrsn, peabspdo, pemjot, pemjnum, pehrusl1, pehrusl2, perhrftpt, pehruslt, pehrwant, pehrrsn1, pehrrsn3, purhoff1, purhoff2, puhrot1, pehract1, pehract2, pehravl, pelayfto, pelkavl, pulkavr, pelkll10, pelkdur, pelkfto, pedwldo, pedwwk, pejhwko, pejhrsn, pejhwant, prabsrea, prcibvlf, prdisc, premphrs, prempnot, prexplf, prftlf, prhrusl, prjobsea, prpthrs, prptrea, prwksch, prwkstat, prwntjob, puiodp1, puiodp2, peio1cow, puio2cow, puio2mfg, prioelg, pragna, prcow1, prcow2, prdtcow1, prdtcow2, prdtind1, prdtind3, prdtocc1, prdtocc2, premp, prmjind1, prmjind2, prmjocc1, prmjocc2, prmjocgr, prnagpws, prnagws, prsjms, peernuot, peernper, peernrt, peernhry, pternh1c, pternh2, pternh1o, pternhly, pthr, peernhro, pternwa, ptwk, ptern, ptot, peernwkp, peernlab, peerncov, penlfjh, penlfret, penlfact, pescenr, peschft, peschlvl, prnlfsch, prchld, prnmchld, pedipged, pehgcomp, pecyc, peio1icd, ptio1ocd, peio2icd, ptio2ocd, primind1, primind2, pecert1"
   ]
  },
  {
   "cell_type": "code",
   "execution_count": 398,
   "metadata": {},
   "outputs": [],
   "source": [
    "wanted = 'hrlonglk, hrhhid2, hubus, hubusl1, hubusl2, hubusl4, gereg, gediv, gestfips, gtcbsast, gtmetsta, gtcbsasz, prtage, prtfage, pemaritl, peafever, peafnow, peeduca, ptdtrace, prdthsp, pehspnon, prmarsta, prpertyp, penatvty, pemntvty, pefntvty, prcitshp, pemlr, puwk, pubus1, pubus2ot, pudis, peret1, pudis1, pudis2, puabsot, pulay, peabsrsn, peabspdo, pemjot, pemjnum, pehrusl1, pehrusl2, pehrftpt, pehruslt, pehrwant, pehrrsn1, pehrrsn2, pehrrsn3, puhroff1, puhroff2, puhrot1, pehract1, pehract2, pehravl, pelayfto, pelkavl, pulkavr, pelkll1o, pelkdur, pelkfto, pedwlko, pedwwk, pejhwko, pejhrsn, pejhwant, prabsrea, prcivlf, prdisc, premphrs, prempnot, prexplf, prftlf, prhrusl, prjobsea, prpthrs, prptrea, prwksch, prwkstat, prwntjob, puiodp1, puiodp2, peio1cow, peio2cow, puio2mfg, prioelg, pragna, prcow1, prcow2, prdtcow1, prdtcow2, prdtind1, prdtind2, prdtocc1, prdtocc2, premp, prmjind1, prmjind2, prmjocc1, prmjocc2, prmjocgr, prnagpws, prnagws, prsjmj, peernuot, peernper, peernrt, peernhry, pternh1c, pternh2, pternh1o, pternhly, pthr, peernhro, pternwa, ptwk, ptern, ptot, peernwkp, peernlab, peerncov, penlfjh, penlfret, penlfact, peschenr, peschft, peschlvl, prnlfsch, prchld, prnmchld, pedipged, pehgcomp, pecyc, peio1icd, ptio1ocd, peio2icd, ptio2ocd, primind1, primind2, pecert1'\n",
    "wanted_list = wanted.split(', ')\n",
    "wanted_list = ['hryear4', 'hurespli', 'hufinal', 'hehousut', 'hetelavl', 'hefaminc', 'hrnumhou', 'hrhtype', 'pesex'] + wanted_list\n",
    "\n",
    "column_not_in_frame = []\n",
    "\n",
    "for col in wanted_list:\n",
    "    if col not in raw.columns.str.lower().to_list():\n",
    "        column_not_in_frame.append(col)\n",
    "        print(col)"
   ]
  },
  {
   "cell_type": "markdown",
   "metadata": {},
   "source": [
    "## Takeaways \n",
    "* fixed typos in list of desired columns\n",
    "* Check original data dictionary for:\n",
    "    - hetenure not in ddrame --> need to drop from desired list\n",
    "    - prsjmj - prsjms not in dframe --> prsjmj contains the information\n",
    "    - prinusyr not in dframe - Immigrant's year of entry\n",
    "    "
   ]
  },
  {
   "cell_type": "code",
   "execution_count": 399,
   "metadata": {},
   "outputs": [],
   "source": [
    "# df.loc[:, wanted_list]\n",
    "df = raw[wanted_list]"
   ]
  },
  {
   "cell_type": "code",
   "execution_count": 400,
   "metadata": {},
   "outputs": [
    {
     "name": "stdout",
     "output_type": "stream",
     "text": [
      "['hryear4', 'hurespli', 'hufinal', 'hehousut', 'hetelavl', 'hefaminc', 'hrnumhou', 'hrhtype', 'pesex', 'hrlonglk', 'hrhhid2', 'hubus', 'hubusl1', 'hubusl2', 'hubusl4', 'gereg', 'gediv', 'gestfips', 'gtcbsast', 'gtmetsta', 'gtcbsasz', 'prtage', 'prtfage', 'pemaritl', 'peafever', 'peafnow', 'peeduca', 'ptdtrace', 'prdthsp', 'pehspnon', 'prmarsta', 'prpertyp', 'penatvty', 'pemntvty', 'pefntvty', 'prcitshp', 'pemlr', 'puwk', 'pubus1', 'pubus2ot', 'pudis', 'peret1', 'pudis1', 'pudis2', 'puabsot', 'pulay', 'peabsrsn', 'peabspdo', 'pemjot', 'pemjnum', 'pehrusl1', 'pehrusl2', 'pehrftpt', 'pehruslt', 'pehrwant', 'pehrrsn1', 'pehrrsn2', 'pehrrsn3', 'puhroff1', 'puhroff2', 'puhrot1', 'pehract1', 'pehract2', 'pehravl', 'pelayfto', 'pelkavl', 'pulkavr', 'pelkll1o', 'pelkdur', 'pelkfto', 'pedwlko', 'pedwwk', 'pejhwko', 'pejhrsn', 'pejhwant', 'prabsrea', 'prcivlf', 'prdisc', 'premphrs', 'prempnot', 'prexplf', 'prftlf', 'prhrusl', 'prjobsea', 'prpthrs', 'prptrea', 'prwksch', 'prwkstat', 'prwntjob', 'puiodp1', 'puiodp2', 'peio1cow', 'peio2cow', 'puio2mfg', 'prioelg', 'pragna', 'prcow1', 'prcow2', 'prdtcow1', 'prdtcow2', 'prdtind1', 'prdtind2', 'prdtocc1', 'prdtocc2', 'premp', 'prmjind1', 'prmjind2', 'prmjocc1', 'prmjocc2', 'prmjocgr', 'prnagpws', 'prnagws', 'prsjmj', 'peernuot', 'peernper', 'peernrt', 'peernhry', 'pternh1c', 'pternh2', 'pternh1o', 'pternhly', 'pthr', 'peernhro', 'pternwa', 'ptwk', 'ptern', 'ptot', 'peernwkp', 'peernlab', 'peerncov', 'penlfjh', 'penlfret', 'penlfact', 'peschenr', 'peschft', 'peschlvl', 'prnlfsch', 'prchld', 'prnmchld', 'pedipged', 'pehgcomp', 'pecyc', 'peio1icd', 'ptio1ocd', 'peio2icd', 'ptio2ocd', 'primind1', 'primind2', 'pecert1']\n"
     ]
    }
   ],
   "source": [
    "print(df.columns.to_list())"
   ]
  },
  {
   "cell_type": "code",
   "execution_count": 401,
   "metadata": {},
   "outputs": [],
   "source": [
    "second_cut = ['hryear4','hufinal', 'hehousut', 'hefaminc', 'hrnumhou', 'hrhtype', 'hrhhid2', 'hubus',\\\n",
    "'gereg', 'gediv', 'gestfips', 'gtcbsast', 'gtmetsta', 'gtcbsasz', 'prtage', 'prtfage', \\\n",
    "'pemaritl', 'pesex', 'peafever', 'peafnow', 'peeduca', 'ptdtrace', 'pehspnon', 'prmarsta', 'penatvty', 'pemntvty',\\\n",
    "'pefntvty', 'prcitshp', 'pemlr', 'pubus1', 'pubus2ot', 'pudis', 'peret1', 'pudis2', \\\n",
    "'pemjot', 'pemjnum', 'pehrftpt', 'pehruslt', 'pehrwant', 'pehrrsn2',\\\n",
    "'puhroff1', 'puhroff2', 'puhrot1', 'pehract1', 'pehract2', 'pehravl', 'pelayfto', 'pelkavl', 'pedwlko', 'pedwwk', 'pejhwant', 'prempnot',\\\n",
    "'prwntjob', 'prcow1', 'prcow2', \\\n",
    "'prmjind1', 'prmjind2', 'prmjocc1', 'prmjocc2', 'prmjocgr', 'peernuot', 'peernhro', 'peernwkp',\\\n",
    "'penlfjh', 'penlfret', 'penlfact', 'peschenr', 'peschft', 'peschlvl', 'prnlfsch','pehgcomp', 'prchld', 'prnmchld',\\\n",
    "'pedipged', 'pecert1']"
   ]
  },
  {
   "cell_type": "code",
   "execution_count": 402,
   "metadata": {},
   "outputs": [],
   "source": [
    "df = df[second_cut]"
   ]
  },
  {
   "cell_type": "code",
   "execution_count": 403,
   "metadata": {},
   "outputs": [
    {
     "data": {
      "text/plain": [
       "201    94635\n",
       "218    13250\n",
       "1       7309\n",
       "226     6440\n",
       "216     1046\n",
       "225      890\n",
       "219      726\n",
       "203      598\n",
       "228      437\n",
       "229      435\n",
       "259      298\n",
       "227      281\n",
       "217      270\n",
       "231      221\n",
       "213      140\n",
       "223      112\n",
       "4        106\n",
       "248      101\n",
       "2        101\n",
       "230       90\n",
       "240       90\n",
       "233       82\n",
       "232       70\n",
       "243       62\n",
       "241       57\n",
       "214       39\n",
       "244       20\n",
       "245       16\n",
       "5          3\n",
       "258        2\n",
       "224        2\n",
       "242        2\n",
       "247        1\n",
       "Name: hufinal, dtype: int64"
      ]
     },
     "execution_count": 403,
     "metadata": {},
     "output_type": "execute_result"
    }
   ],
   "source": [
    "#big change in numbers here\n",
    "df.hufinal.value_counts(dropna=False)"
   ]
  },
  {
   "cell_type": "code",
   "execution_count": 404,
   "metadata": {},
   "outputs": [],
   "source": [
    "#decided to dropna's cleared up problem with target variable\n",
    "df = df.dropna()\n",
    "\n",
    "#artifacts from trying to work figure out how to handle na's\n",
    "#big change in numbers here\n",
    "# df.hufinal.value_counts(dropna=False) --> column dropped\n",
    "# df.columns[df.isnull().any()]\n",
    "# df[df.hufinal != (218)][['pemlr', 'prexplf', 'prempnot']].value_counts(dropna=False)\n",
    "# df[['prmjind1', 'prmjind2','prmjocc1', 'prmjocc2', 'prmjocgr']].value_counts(dropna=False)\n",
    "# df[['pemlr', 'prexplf', 'prempnot']].value_counts(dropna=False)\n",
    "# df[['pemlr', 'prexplf', 'prempnot']].value_counts(normalize=True, dropna=False)"
   ]
  },
  {
   "cell_type": "markdown",
   "metadata": {},
   "source": [
    "## Takeaways\n",
    "* Still need to verify the industry recodes\n",
    "* eliminated additional columns that had greater change of leakage\n",
    "----\n",
    "* need to verify contents of industry recodes for viability\n",
    "* look into hufinal and use that to drop records that refused to respond --> changing strategy\n",
    "* drop any records that have 'NaN' for target variable, indicates incomplete survey/data\n",
    "----\n",
    "* decided to just do a straight dropna()"
   ]
  },
  {
   "cell_type": "markdown",
   "metadata": {},
   "source": [
    "# Prepare\n",
    "* Goals:\n",
    "    - Get down to 30 columns\n",
    "* Takeaways/fixes\n",
    "    - Get ride of prtage == 0  or impute \n",
    "    - fix peafever --> add answers from peafnow to capture active duty \n",
    "    - ptdtrace, pehspnon --> hispanic/non needs to be added to race and race needs to be handled --> disregard\n",
    "    - pemlr, prexplf, prempnot --> use information to create disposition\n"
   ]
  },
  {
   "cell_type": "code",
   "execution_count": 405,
   "metadata": {},
   "outputs": [
    {
     "data": {
      "text/plain": [
       "80.0    2525\n",
       "85.0    2183\n",
       "Name: prtage, dtype: int64"
      ]
     },
     "execution_count": 405,
     "metadata": {},
     "output_type": "execute_result"
    }
   ],
   "source": [
    "# remove prtfage. is top code for ages above 80\n",
    "df[df.prtfage == 1]['prtage'].value_counts()"
   ]
  },
  {
   "cell_type": "code",
   "execution_count": 406,
   "metadata": {},
   "outputs": [
    {
     "data": {
      "text/plain": [
       "peafever\n",
       " 2.0        76019\n",
       "-1.0        20685\n",
       " 1.0         6045\n",
       "dtype: int64"
      ]
     },
     "execution_count": 406,
     "metadata": {},
     "output_type": "execute_result"
    }
   ],
   "source": [
    "# fixing peafnow  --> get rid of peafnow\n",
    "df.iloc[np.where(df.peafnow == 1)]['peafever'] = 1\n",
    "df[['peafever']].value_counts(dropna=False)"
   ]
  },
  {
   "cell_type": "code",
   "execution_count": 407,
   "metadata": {},
   "outputs": [],
   "source": [
    "# create function to flatten race in less categories\n",
    "def flatten_race(val):\n",
    "    if val == 1:\n",
    "        val = 'white'\n",
    "    elif val == 2:\n",
    "        val = 'black'\n",
    "    elif val == 3:\n",
    "        val = 'AI/NA'\n",
    "    elif val == 4:\n",
    "        val = 'asian'\n",
    "    elif val == 5:\n",
    "        val = 'HI/PI'\n",
    "    elif 5 < val < 10:\n",
    "        val = 'mixed_white'\n",
    "    elif 10 <= val < 27 :\n",
    "        val = 'mixed_other'\n",
    "    return val\n",
    "\n",
    "df['ptdtrace'] = df['ptdtrace'].apply(flatten_race)\n",
    "\n",
    "#artifact from trying to combine with Hispanic status\n",
    "# df[['ptdtrace','pehspnon']].sort_values('pehspnon').value_counts()"
   ]
  },
  {
   "cell_type": "code",
   "execution_count": 408,
   "metadata": {},
   "outputs": [],
   "source": [
    "# remove responses from people not in the labor force by means other that discouragement\n",
    "df = df[df.prempnot != 4]"
   ]
  },
  {
   "cell_type": "code",
   "execution_count": 409,
   "metadata": {},
   "outputs": [],
   "source": [
    "# remove responses from unqualified respondents (children and active armed forces members)\n",
    "df = df[df.prempnot != (-1)]"
   ]
  },
  {
   "cell_type": "code",
   "execution_count": 410,
   "metadata": {},
   "outputs": [],
   "source": [
    "# binary recode of premmpnot to include repsondents discourage from workforce participation as unemployed\n",
    "df.prempnot = np.where(df.prempnot == 1, 1, 0)"
   ]
  },
  {
   "cell_type": "code",
   "execution_count": 411,
   "metadata": {},
   "outputs": [
    {
     "data": {
      "text/plain": [
       "1    48921\n",
       "0     1885\n",
       "Name: prempnot, dtype: int64"
      ]
     },
     "execution_count": 411,
     "metadata": {},
     "output_type": "execute_result"
    }
   ],
   "source": [
    "df.prempnot.value_counts()"
   ]
  },
  {
   "cell_type": "code",
   "execution_count": 412,
   "metadata": {},
   "outputs": [],
   "source": [
    "final_list = ['hehousut', 'hefaminc', 'hrnumhou', 'hrhtype','hubus',\\\n",
    "'gediv', 'gestfips', 'gtmetsta', 'gtcbsasz', 'prtage', 'pesex', \\\n",
    "'pemaritl', 'peafever', 'peeduca', 'ptdtrace', 'pehspnon', 'penatvty', 'pemntvty','pehrftpt',\\\n",
    "'pefntvty', 'prcitshp', 'pubus1', 'pudis2', 'pehruslt', 'pelkavl', 'pedwlko', 'pedwwk', 'pejhwant', 'prempnot',\\\n",
    "'prmjind1', 'prmjocc1', 'peernuot', 'peschenr', 'prchld', 'pecert1']"
   ]
  },
  {
   "cell_type": "code",
   "execution_count": 413,
   "metadata": {},
   "outputs": [],
   "source": [
    "df = df[final_list]"
   ]
  },
  {
   "cell_type": "markdown",
   "metadata": {},
   "source": [
    "# Prepare - Part II\n",
    "* Goals:\n",
    "    - Change column names\n",
    "* Takeaways\n",
    "    - `usual_35_hours_more`/`pehrftpt` can be removed, and data used to impute values in `usual_hours_worked`\n",
    "    - use apply function to take handle --> back to before column renaming for flow purposes. leave as is for now"
   ]
  },
  {
   "cell_type": "code",
   "execution_count": 414,
   "metadata": {},
   "outputs": [],
   "source": [
    "df = df.rename(columns={'hehousut': 'housing_type',\n",
    "'hefaminc': 'family_income',\n",
    "'hrnumhou': 'household_num',\n",
    "'hrhtype': 'household_type',\n",
    "'hubus': 'own_bus_or_farm',\n",
    "'gediv': 'country_region',\n",
    "'gestfips': 'state',\n",
    "'gtmetsta': 'metropolitan',\n",
    "'gtcbsasz': 'metro_area_size',\n",
    "'prtage': 'age',\n",
    "'pesex': 'sex',\n",
    "'pemaritl': 'marital_status',\n",
    "'peafever': 'veteran',\n",
    "'peeduca': 'education',\n",
    "'ptdtrace': 'race',\n",
    "'pehspnon': 'hispanic_or_non',\n",
    "'penatvty': 'birth_country',\n",
    "'pemntvty': 'mother_birth_country',\n",
    "'pefntvty': 'father_birth_country',\n",
    "'prcitshp': 'citizenship',\n",
    "'pubus1': 'upaid_work_last_week',\n",
    "'pudis2': 'disability_preventing_work_in_next_6_months',\n",
    "'pehrftpt' : 'usual_35_hours_more',\n",
    "'pehruslt': 'usual_hours_worked',\n",
    "'pelkavl': 'could_have_started_job',\n",
    "'pedwlko': 'sought_work_last_12_months',\n",
    "'pedwwk': 'worked_last_12_months',\n",
    "'pejhwant': 'intend_to_look_next_12_months',\n",
    "'prempnot': 'employed',\n",
    "'prmjind1': 'industry',\n",
    "'prmjocc1': 'occupation',\n",
    "'peernuot': 'usual_ot_tips_commis',\n",
    "'peschenr': 'enrolled_in_school',\n",
    "'prchld': 'children_in_household',\n",
    "'pecert1': 'professional_certification'})"
   ]
  },
  {
   "cell_type": "code",
   "execution_count": 417,
   "metadata": {},
   "outputs": [],
   "source": [
    "#work done to fix usual_hours_worked with manual imputation \n",
    "# *****MUSTBEDONEAFTERNAMECHANGEFORNOW****\n",
    "\n",
    "df[df.usual_hours_worked == -4].usual_35_hours_more.value_counts()\n",
    "df.usual_35_hours_more.value_counts()\n",
    "#mean hours worked for those less that work less than 35\n",
    "more_than_35 = round(df[df.usual_hours_worked > 35].usual_hours_worked.mean())\n",
    "#mean hours worked for those less that work less than 35\n",
    "less_than_35 = round(df[(df.usual_hours_worked > 0) & (df.usual_hours_worked < 35)].usual_hours_worked.mean())\n",
    "df[['usual_35_hours_more', 'usual_hours_worked']].value_counts()\n",
    "df[df.usual_35_hours_more == 1]['usual_hours_worked'] = more_than_35\n",
    "df[df.usual_35_hours_more == 2]['usual_hours_worked'] = less_than_35\n",
    "\n",
    "df = df.drop(columns='usual_35_hours_more')"
   ]
  },
  {
   "cell_type": "code",
   "execution_count": 418,
   "metadata": {},
   "outputs": [
    {
     "data": {
      "text/plain": [
       "['housing_type',\n",
       " 'family_income',\n",
       " 'household_num',\n",
       " 'household_type',\n",
       " 'own_bus_or_farm',\n",
       " 'country_region',\n",
       " 'state',\n",
       " 'metropolitan',\n",
       " 'metro_area_size',\n",
       " 'age',\n",
       " 'sex',\n",
       " 'marital_status',\n",
       " 'veteran',\n",
       " 'education',\n",
       " 'race',\n",
       " 'hispanic_or_non',\n",
       " 'birth_country',\n",
       " 'mother_birth_country',\n",
       " 'father_birth_country',\n",
       " 'citizenship',\n",
       " 'upaid_work_last_week',\n",
       " 'disability_preventing_work_in_next_6_months',\n",
       " 'usual_hours_worked',\n",
       " 'could_have_started_job',\n",
       " 'sought_work_last_12_months',\n",
       " 'worked_last_12_months',\n",
       " 'intend_to_look_next_12_months',\n",
       " 'employed',\n",
       " 'industry',\n",
       " 'occupation',\n",
       " 'usual_ot_tips_commis',\n",
       " 'enrolled_in_school',\n",
       " 'children_in_household',\n",
       " 'professional_certification']"
      ]
     },
     "execution_count": 418,
     "metadata": {},
     "output_type": "execute_result"
    }
   ],
   "source": [
    "df.columns.to_list()"
   ]
  },
  {
   "cell_type": "code",
   "execution_count": 419,
   "metadata": {},
   "outputs": [
    {
     "name": "stdout",
     "output_type": "stream",
     "text": [
      "<class 'pandas.core.frame.DataFrame'>\n",
      "Int64Index: 50806 entries, 1 to 127917\n",
      "Data columns (total 34 columns):\n",
      " #   Column                                       Non-Null Count  Dtype  \n",
      "---  ------                                       --------------  -----  \n",
      " 0   housing_type                                 50806 non-null  int64  \n",
      " 1   family_income                                50806 non-null  int64  \n",
      " 2   household_num                                50806 non-null  int64  \n",
      " 3   household_type                               50806 non-null  int64  \n",
      " 4   own_bus_or_farm                              50806 non-null  int64  \n",
      " 5   country_region                               50806 non-null  int64  \n",
      " 6   state                                        50806 non-null  int64  \n",
      " 7   metropolitan                                 50806 non-null  int64  \n",
      " 8   metro_area_size                              50806 non-null  int64  \n",
      " 9   age                                          50806 non-null  float64\n",
      " 10  sex                                          50806 non-null  float64\n",
      " 11  marital_status                               50806 non-null  float64\n",
      " 12  veteran                                      50806 non-null  float64\n",
      " 13  education                                    50806 non-null  float64\n",
      " 14  race                                         50806 non-null  object \n",
      " 15  hispanic_or_non                              50806 non-null  float64\n",
      " 16  birth_country                                50806 non-null  float64\n",
      " 17  mother_birth_country                         50806 non-null  float64\n",
      " 18  father_birth_country                         50806 non-null  float64\n",
      " 19  citizenship                                  50806 non-null  float64\n",
      " 20  upaid_work_last_week                         50806 non-null  float64\n",
      " 21  disability_preventing_work_in_next_6_months  50806 non-null  float64\n",
      " 22  usual_hours_worked                           50806 non-null  float64\n",
      " 23  could_have_started_job                       50806 non-null  float64\n",
      " 24  sought_work_last_12_months                   50806 non-null  float64\n",
      " 25  worked_last_12_months                        50806 non-null  float64\n",
      " 26  intend_to_look_next_12_months                50806 non-null  float64\n",
      " 27  employed                                     50806 non-null  int64  \n",
      " 28  industry                                     50806 non-null  float64\n",
      " 29  occupation                                   50806 non-null  float64\n",
      " 30  usual_ot_tips_commis                         50806 non-null  float64\n",
      " 31  enrolled_in_school                           50806 non-null  float64\n",
      " 32  children_in_household                        50806 non-null  float64\n",
      " 33  professional_certification                   50806 non-null  float64\n",
      "dtypes: float64(23), int64(10), object(1)\n",
      "memory usage: 13.6+ MB\n"
     ]
    }
   ],
   "source": [
    "df.info()"
   ]
  },
  {
   "cell_type": "markdown",
   "metadata": {},
   "source": [
    "# Prepare - Part III\n",
    "* Goals\n",
    "    - identify final categorical vs numerical column disposition\n",
    "    - binary encode where able\n",
    "    - ~~translate to numerical when able~~ leave numerical alone\n",
    "    - flatten necessary categorical columns \n",
    "        * possible save until after exploration phase. may be unnecessary\n",
    "        * housing_type, household_type, marital_status, birth_country, mother_birth_country, father_birth_country\n"
   ]
  },
  {
   "cell_type": "code",
   "execution_count": 428,
   "metadata": {},
   "outputs": [],
   "source": [
    "#fixing types on categorical columns\n",
    "categorical_cols = ['housing_type','family_income','household_type',\n",
    "                    'country_region','state','metropolitan','metro_area_size',\n",
    "                    'marital_status','education','race','birth_country',\n",
    "                    'mother_birth_country','father_birth_country','citizenship',\n",
    "                    'industry','occupation']\n",
    "\n",
    "#for loop to handle assignment as object\n",
    "for col in categorical_cols:\n",
    "    df[col] = (df[col].astype('object'))"
   ]
  },
  {
   "cell_type": "code",
   "execution_count": 451,
   "metadata": {},
   "outputs": [],
   "source": [
    "#fixing binary columns freom -1, 1, 2 --> 0, 1\n",
    "binary_cols = ['own_bus_or_farm', 'sex', 'veteran','hispanic_or_non', \n",
    "                'upaid_work_last_week','could_have_started_job',\n",
    "                'sought_work_last_12_months', 'worked_last_12_months',\n",
    "                'intend_to_look_next_12_months','employed', 'usual_ot_tips_commis',\n",
    "                'enrolled_in_school','professional_certification']\n"
   ]
  },
  {
   "cell_type": "code",
   "execution_count": 457,
   "metadata": {},
   "outputs": [],
   "source": [
    "# changed all non-affirmative answers to negative. tips, school, most affected\n",
    "for col in binary_cols:\n",
    "    df[col] = np.where(df[col] == 1, 1, 0)"
   ]
  },
  {
   "cell_type": "code",
   "execution_count": 462,
   "metadata": {},
   "outputs": [
    {
     "name": "stdout",
     "output_type": "stream",
     "text": [
      "<class 'pandas.core.frame.DataFrame'>\n",
      "Int64Index: 50806 entries, 1 to 127917\n",
      "Data columns (total 34 columns):\n",
      " #   Column                                       Non-Null Count  Dtype  \n",
      "---  ------                                       --------------  -----  \n",
      " 0   housing_type                                 50806 non-null  object \n",
      " 1   family_income                                50806 non-null  object \n",
      " 2   household_num                                50806 non-null  int64  \n",
      " 3   household_type                               50806 non-null  object \n",
      " 4   own_bus_or_farm                              50806 non-null  object \n",
      " 5   country_region                               50806 non-null  object \n",
      " 6   state                                        50806 non-null  object \n",
      " 7   metropolitan                                 50806 non-null  object \n",
      " 8   metro_area_size                              50806 non-null  object \n",
      " 9   age                                          50806 non-null  float64\n",
      " 10  sex                                          50806 non-null  object \n",
      " 11  marital_status                               50806 non-null  object \n",
      " 12  veteran                                      50806 non-null  object \n",
      " 13  education                                    50806 non-null  object \n",
      " 14  race                                         50806 non-null  object \n",
      " 15  hispanic_or_non                              50806 non-null  object \n",
      " 16  birth_country                                50806 non-null  object \n",
      " 17  mother_birth_country                         50806 non-null  object \n",
      " 18  father_birth_country                         50806 non-null  object \n",
      " 19  citizenship                                  50806 non-null  object \n",
      " 20  upaid_work_last_week                         50806 non-null  object \n",
      " 21  disability_preventing_work_in_next_6_months  50806 non-null  float64\n",
      " 22  usual_hours_worked                           50806 non-null  float64\n",
      " 23  could_have_started_job                       50806 non-null  object \n",
      " 24  sought_work_last_12_months                   50806 non-null  object \n",
      " 25  worked_last_12_months                        50806 non-null  object \n",
      " 26  intend_to_look_next_12_months                50806 non-null  object \n",
      " 27  employed                                     50806 non-null  object \n",
      " 28  industry                                     50806 non-null  object \n",
      " 29  occupation                                   50806 non-null  object \n",
      " 30  usual_ot_tips_commis                         50806 non-null  object \n",
      " 31  enrolled_in_school                           50806 non-null  object \n",
      " 32  children_in_household                        50806 non-null  float64\n",
      " 33  professional_certification                   50806 non-null  object \n",
      "dtypes: float64(4), int64(1), object(29)\n",
      "memory usage: 13.6+ MB\n"
     ]
    }
   ],
   "source": [
    "df.info()"
   ]
  },
  {
   "cell_type": "markdown",
   "metadata": {},
   "source": [
    "# Prep: Part IV \n",
    "* Goal:\n",
    "    - Create functions that will handle sections of prep \n",
    "    - Big wrangle Function --> prep_aug()\n",
    "    - don't forget to add docstring placeholders"
   ]
  },
  {
   "cell_type": "code",
   "execution_count": 472,
   "metadata": {},
   "outputs": [],
   "source": [
    "def acquire_aug():\n",
    "    ''' \n",
    "    Purpose:\n",
    "\n",
    "    ---\n",
    "\n",
    "    Parameters:\n",
    "\n",
    "    ---\n",
    "\n",
    "    Output:\n",
    "    \n",
    "    ---\n",
    "    '''\n",
    "\n",
    "    df = pd.read_csv('aug22pub.csv')\n",
    "\n",
    "    df.columns = df.columns.str.lower()\n",
    "    \n",
    "    return df\n",
    "\n",
    "# create function to flatten race in less categories\n",
    "def flatten_race(val):\n",
    "    ''' \n",
    "    Purpose:\n",
    "\n",
    "    ---\n",
    "\n",
    "    Parameters:\n",
    "\n",
    "    ---\n",
    "\n",
    "    Output:\n",
    "    \n",
    "    ---\n",
    "    '''\n",
    "    if val == 1:\n",
    "        val = 'white'\n",
    "    elif val == 2:\n",
    "        val = 'black'\n",
    "    elif val == 3:\n",
    "        val = 'AI/NA'\n",
    "    elif val == 4:\n",
    "        val = 'asian'\n",
    "    elif val == 5:\n",
    "        val = 'HI/PI'\n",
    "    elif 5 < val < 10:\n",
    "        val = 'mixed_white'\n",
    "    elif 10 < 27 :\n",
    "        val = 'mixed_other'\n",
    "    return val\n",
    "\n",
    "\n",
    "def prep_values(df):\n",
    "    ''' \n",
    "    Purpose:\n",
    "\n",
    "    ---\n",
    "\n",
    "    Parameters:\n",
    "\n",
    "    ---\n",
    "\n",
    "    Output:\n",
    "    \n",
    "    ---\n",
    "    '''\n",
    "\n",
    "    #decided to dropna's cleared up problem with target variable\n",
    "    df = df.dropna()\n",
    "\n",
    "    # fixing peafnow  --> get rid of peafnow\n",
    "    df.iloc[np.where(df.peafnow == 1)]['peafever'] = 1\n",
    "\n",
    "    #work done to fix usual_hours_worked with manual imputation \n",
    "    #mean hours worked for those less that work less than 35\n",
    "    more_than_35 = round(df[df.pehruslt > 35].pehruslt.mean())\n",
    "    #mean hours worked for those less that work less than 35\n",
    "    less_than_35 = round(df[(df.pehruslt > 0) & (df.pehruslt < 35)].pehruslt.mean())\n",
    "    df[['pehrftpt', 'pehruslt']].value_counts()\n",
    "\n",
    "    df[df.pehrftpt == 1]['pehruslt'] = more_than_35\n",
    "    df[df.pehrftpt == 2]['pehruslt'] = less_than_35\n",
    "\n",
    "    # remove responses from people not in the labor force by means other that discouragement\n",
    "    df = df[df.prempnot != 4]\n",
    "    # remove responses from unqualified respondents (children and active armed forces members)\n",
    "    df = df[df.prempnot != (-1)]\n",
    "    # binary recode of premmpnot to include repsondents discourage from workforce participation as unemployed\n",
    "    df.prempnot = np.where(df.prempnot == 1, 1, 0)\n",
    "\n",
    "    return df\n",
    "\n",
    "\n",
    "def prep_columns(df): \n",
    "    ''' \n",
    "    Purpose:\n",
    "\n",
    "    ---\n",
    "\n",
    "    Parameters:\n",
    "\n",
    "    ---\n",
    "\n",
    "    Output:\n",
    "    \n",
    "    ---\n",
    "    '''\n",
    "\n",
    "    df['ptdtrace'] = df['ptdtrace'].apply(flatten_race)\n",
    "\n",
    "    final_list = ['hehousut', 'hefaminc', 'hrnumhou', 'hrhtype','hubus',\\\n",
    "    'gediv', 'gestfips', 'gtmetsta', 'gtcbsasz', 'prtage', 'pesex', \\\n",
    "    'pemaritl', 'peafever', 'peeduca', 'ptdtrace', 'pehspnon', 'penatvty', 'pemntvty',\n",
    "    'pefntvty', 'prcitshp', 'pubus1', 'pudis2', 'pehruslt', 'pelkavl', 'pedwlko', 'pedwwk', 'pejhwant', 'prempnot',\\\n",
    "    'prmjind1', 'prmjocc1', 'peernuot', 'peschenr', 'prchld', 'pecert1']\n",
    "\n",
    "    df = df[final_list]\n",
    "\n",
    "    df = df.rename(columns={'hehousut': 'housing_type',\n",
    "        'hefaminc': 'family_income',\n",
    "        'hrnumhou': 'household_num',\n",
    "        'hrhtype': 'household_type',\n",
    "        'hubus': 'own_bus_or_farm',\n",
    "        'gediv': 'country_region',\n",
    "        'gestfips': 'state',\n",
    "        'gtmetsta': 'metropolitan',\n",
    "        'gtcbsasz': 'metro_area_size',\n",
    "        'prtage': 'age',\n",
    "        'pesex': 'sex',\n",
    "        'pemaritl': 'marital_status',\n",
    "        'peafever': 'veteran',\n",
    "        'peeduca': 'education',\n",
    "        'ptdtrace': 'race',\n",
    "        'pehspnon': 'hispanic_or_non',\n",
    "        'penatvty': 'birth_country',\n",
    "        'pemntvty': 'mother_birth_country',\n",
    "        'pefntvty': 'father_birth_country',\n",
    "        'prcitshp': 'citizenship',\n",
    "        'pubus1': 'upaid_work_last_week',\n",
    "        'pudis2': 'disability_preventing_work_in_next_6_months',\n",
    "        'pehruslt': 'usual_hours_worked',\n",
    "        'pelkavl': 'could_have_started_job',\n",
    "        'pedwlko': 'sought_work_last_12_months',\n",
    "        'pedwwk': 'worked_last_12_months',\n",
    "        'pejhwant': 'intend_to_look_next_12_months',\n",
    "        'prempnot': 'employed',\n",
    "        'prmjind1': 'industry',\n",
    "        'prmjocc1': 'occupation',\n",
    "        'peernuot': 'usual_ot_tips_commis',\n",
    "        'peschenr': 'enrolled_in_school',\n",
    "        'prchld': 'children_in_household',\n",
    "        'pecert1': 'professional_certification'})\n",
    "\n",
    "    #fixing types on categorical columns\n",
    "    categorical_cols = ['housing_type','family_income','household_type',\n",
    "                        'country_region','state','metropolitan','metro_area_size',\n",
    "                        'marital_status','education','race','birth_country',\n",
    "                        'mother_birth_country','father_birth_country','citizenship',\n",
    "                        'industry','occupation']\n",
    "\n",
    "    binary_cols = ['own_bus_or_farm', 'sex', 'veteran','hispanic_or_non', \n",
    "                'upaid_work_last_week','could_have_started_job',\n",
    "                'sought_work_last_12_months', 'worked_last_12_months',\n",
    "                'intend_to_look_next_12_months','employed', 'usual_ot_tips_commis',\n",
    "                'enrolled_in_school','professional_certification']  \n",
    "\n",
    "    #for loop to handle assignment as object\n",
    "    for col in categorical_cols:\n",
    "        df[col] = (df[col].astype('object'))\n",
    "\n",
    "    # changed all non-affirmative answers to negative. tips, school, most affected\n",
    "    for col in binary_cols:\n",
    "        df[col] = np.where(df[col] == 1, 1, 0)                                 \n",
    "\n",
    "    return df"
   ]
  },
  {
   "cell_type": "code",
   "execution_count": 473,
   "metadata": {},
   "outputs": [],
   "source": [
    "def prep_aug():\n",
    "    ''' \n",
    "    Purpose:\n",
    "\n",
    "    ---\n",
    "\n",
    "    Parameters:\n",
    "\n",
    "    ---\n",
    "\n",
    "    Output:\n",
    "    \n",
    "    ---\n",
    "    '''\n",
    "\n",
    "    df = acquire_aug()\n",
    "\n",
    "    df = prep_values(df)\n",
    "\n",
    "    df = prep_columns(df)\n",
    "\n",
    "    return df"
   ]
  },
  {
   "cell_type": "code",
   "execution_count": 474,
   "metadata": {},
   "outputs": [],
   "source": [
    "test = prep_aug()"
   ]
  },
  {
   "cell_type": "code",
   "execution_count": 475,
   "metadata": {},
   "outputs": [
    {
     "name": "stdout",
     "output_type": "stream",
     "text": [
      "<class 'pandas.core.frame.DataFrame'>\n",
      "Int64Index: 50806 entries, 1 to 127917\n",
      "Data columns (total 34 columns):\n",
      " #   Column                                       Non-Null Count  Dtype  \n",
      "---  ------                                       --------------  -----  \n",
      " 0   housing_type                                 50806 non-null  object \n",
      " 1   family_income                                50806 non-null  object \n",
      " 2   household_num                                50806 non-null  int64  \n",
      " 3   household_type                               50806 non-null  object \n",
      " 4   own_bus_or_farm                              50806 non-null  int64  \n",
      " 5   country_region                               50806 non-null  object \n",
      " 6   state                                        50806 non-null  object \n",
      " 7   metropolitan                                 50806 non-null  object \n",
      " 8   metro_area_size                              50806 non-null  object \n",
      " 9   age                                          50806 non-null  float64\n",
      " 10  sex                                          50806 non-null  int64  \n",
      " 11  marital_status                               50806 non-null  object \n",
      " 12  veteran                                      50806 non-null  int64  \n",
      " 13  education                                    50806 non-null  object \n",
      " 14  race                                         50806 non-null  object \n",
      " 15  hispanic_or_non                              50806 non-null  int64  \n",
      " 16  birth_country                                50806 non-null  object \n",
      " 17  mother_birth_country                         50806 non-null  object \n",
      " 18  father_birth_country                         50806 non-null  object \n",
      " 19  citizenship                                  50806 non-null  object \n",
      " 20  upaid_work_last_week                         50806 non-null  int64  \n",
      " 21  disability_preventing_work_in_next_6_months  50806 non-null  float64\n",
      " 22  usual_hours_worked                           50806 non-null  float64\n",
      " 23  could_have_started_job                       50806 non-null  int64  \n",
      " 24  sought_work_last_12_months                   50806 non-null  int64  \n",
      " 25  worked_last_12_months                        50806 non-null  int64  \n",
      " 26  intend_to_look_next_12_months                50806 non-null  int64  \n",
      " 27  employed                                     50806 non-null  int64  \n",
      " 28  industry                                     50806 non-null  object \n",
      " 29  occupation                                   50806 non-null  object \n",
      " 30  usual_ot_tips_commis                         50806 non-null  int64  \n",
      " 31  enrolled_in_school                           50806 non-null  int64  \n",
      " 32  children_in_household                        50806 non-null  float64\n",
      " 33  professional_certification                   50806 non-null  int64  \n",
      "dtypes: float64(4), int64(14), object(16)\n",
      "memory usage: 13.6+ MB\n"
     ]
    }
   ],
   "source": [
    "test.info()"
   ]
  }
 ],
 "metadata": {
  "kernelspec": {
   "display_name": "Python 3.9.12 ('base')",
   "language": "python",
   "name": "python3"
  },
  "language_info": {
   "codemirror_mode": {
    "name": "ipython",
    "version": 3
   },
   "file_extension": ".py",
   "mimetype": "text/x-python",
   "name": "python",
   "nbconvert_exporter": "python",
   "pygments_lexer": "ipython3",
   "version": "3.9.12"
  },
  "orig_nbformat": 4,
  "vscode": {
   "interpreter": {
    "hash": "38cca0c38332a56087b24af0bc80247f4fced29cb4f7f437d91dc159adec9c4e"
   }
  }
 },
 "nbformat": 4,
 "nbformat_minor": 2
}
